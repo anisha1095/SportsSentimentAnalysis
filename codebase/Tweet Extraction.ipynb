{
 "cells": [
  {
   "cell_type": "code",
   "execution_count": null,
   "metadata": {},
   "outputs": [],
   "source": [
    "#pip install git+https://github.com/JustAnotherArchivist/snscrape.git"
   ]
  },
  {
   "cell_type": "code",
   "execution_count": 1,
   "metadata": {},
   "outputs": [],
   "source": [
    "import pandas as pd\n",
    "import snscrape.modules.twitter as sntwitter"
   ]
  },
  {
   "cell_type": "markdown",
   "metadata": {},
   "source": [
    "Change the date to extract tweets from below"
   ]
  },
  {
   "cell_type": "code",
   "execution_count": 2,
   "metadata": {},
   "outputs": [],
   "source": [
    "#date = '2021-11-28'"
   ]
  },
  {
   "cell_type": "code",
   "execution_count": 45,
   "metadata": {},
   "outputs": [],
   "source": [
    "player_accounts = ['@ManUtd','@AnthonyMartial','@MarcusRashford','@D_DeGea', '@paulpogba', '@B_Fernandes8', '@Sanchooo10', '@JesseLingard', '@Donny_beek6', '@HarryMaguire93', '@raphaelvarane', '@masongreenwood', '@Fred08oficial', '@ECavaniOfficial', '@awbissaka', '@AT13Oficial', '@LukeShaw23', '@Amaddiallo_19', '@juanmata8', '@vlindelof', '@NemanjaMatic', '@DalotDiogo', '@ericbailly24', '@deanhenderson', '@Cristiano']"
   ]
  },
  {
   "cell_type": "code",
   "execution_count": 87,
   "metadata": {},
   "outputs": [],
   "source": [
    "tweets_list1 = [] \n",
    "for a in player_accounts:\n",
    "    for i,tweet in enumerate(sntwitter.TwitterSearchScraper('from:'+a+' since:2021-08-14 until:2021-08-15').get_items()): #declare a username \n",
    "    #if i>1000: #number of tweets you want to scrape\n",
    "    #   break\n",
    "    #abc = str(tweet.date)\n",
    "    #if abc[0:10] == date:    \n",
    "        tweets_list1.append([tweet.date, tweet.id, tweet.content, tweet.user.username]) #declare the attributes to be returned\n",
    " "
   ]
  },
  {
   "cell_type": "code",
   "execution_count": 88,
   "metadata": {},
   "outputs": [
    {
     "data": {
      "text/html": [
       "<div>\n",
       "<style scoped>\n",
       "    .dataframe tbody tr th:only-of-type {\n",
       "        vertical-align: middle;\n",
       "    }\n",
       "\n",
       "    .dataframe tbody tr th {\n",
       "        vertical-align: top;\n",
       "    }\n",
       "\n",
       "    .dataframe thead th {\n",
       "        text-align: right;\n",
       "    }\n",
       "</style>\n",
       "<table border=\"1\" class=\"dataframe\">\n",
       "  <thead>\n",
       "    <tr style=\"text-align: right;\">\n",
       "      <th></th>\n",
       "      <th>Datetime</th>\n",
       "      <th>Tweet Id</th>\n",
       "      <th>Text</th>\n",
       "      <th>Username</th>\n",
       "    </tr>\n",
       "  </thead>\n",
       "  <tbody>\n",
       "    <tr>\n",
       "      <th>0</th>\n",
       "      <td>2021-08-14 23:04:00+00:00</td>\n",
       "      <td>1426681036818325506</td>\n",
       "      <td>Seeing a full Old Trafford made Saturday's res...</td>\n",
       "      <td>ManUtd</td>\n",
       "    </tr>\n",
       "    <tr>\n",
       "      <th>1</th>\n",
       "      <td>2021-08-14 22:26:00+00:00</td>\n",
       "      <td>1426671473633071104</td>\n",
       "      <td>For those we lost during the pandemic ❤️\\n\\n#M...</td>\n",
       "      <td>ManUtd</td>\n",
       "    </tr>\n",
       "    <tr>\n",
       "      <th>2</th>\n",
       "      <td>2021-08-14 21:39:00+00:00</td>\n",
       "      <td>1426659645519798272</td>\n",
       "      <td>The first of many this season, we're sure 🏅\\n\\...</td>\n",
       "      <td>ManUtd</td>\n",
       "    </tr>\n",
       "    <tr>\n",
       "      <th>3</th>\n",
       "      <td>2021-08-14 21:02:05+00:00</td>\n",
       "      <td>1426650355002187778</td>\n",
       "      <td>The highlights you've all been waiting for! 🍿\\...</td>\n",
       "      <td>ManUtd</td>\n",
       "    </tr>\n",
       "    <tr>\n",
       "      <th>4</th>\n",
       "      <td>2021-08-14 20:49:00+00:00</td>\n",
       "      <td>1426647062691688450</td>\n",
       "      <td>🔴 𝗝𝗦𝟮𝟱 🔴\\n\\n#MUFC @Sanchooo10 https://t.co/I10...</td>\n",
       "      <td>ManUtd</td>\n",
       "    </tr>\n",
       "    <tr>\n",
       "      <th>...</th>\n",
       "      <td>...</td>\n",
       "      <td>...</td>\n",
       "      <td>...</td>\n",
       "      <td>...</td>\n",
       "    </tr>\n",
       "    <tr>\n",
       "      <th>86</th>\n",
       "      <td>2021-08-14 14:15:26+00:00</td>\n",
       "      <td>1426548018946486277</td>\n",
       "      <td>🖤 https://t.co/2nhz0ZakYd</td>\n",
       "      <td>Fred08oficial</td>\n",
       "    </tr>\n",
       "    <tr>\n",
       "      <th>87</th>\n",
       "      <td>2021-08-14 18:57:47+00:00</td>\n",
       "      <td>1426619074017177606</td>\n",
       "      <td>🏃🏻 🤣👩🏼👶👧♥️… https://t.co/oF5172T6vO</td>\n",
       "      <td>ECavaniOfficial</td>\n",
       "    </tr>\n",
       "    <tr>\n",
       "      <th>88</th>\n",
       "      <td>2021-08-14 15:19:03+00:00</td>\n",
       "      <td>1426564029569454081</td>\n",
       "      <td>back to business 🔴🕸 https://t.co/EgLqLMc84U</td>\n",
       "      <td>awbissaka</td>\n",
       "    </tr>\n",
       "    <tr>\n",
       "      <th>89</th>\n",
       "      <td>2021-08-14 13:58:05+00:00</td>\n",
       "      <td>1426543651564527621</td>\n",
       "      <td>What an atmosphere at OT!! The start we wanted...</td>\n",
       "      <td>LukeShaw23</td>\n",
       "    </tr>\n",
       "    <tr>\n",
       "      <th>90</th>\n",
       "      <td>2021-08-14 15:13:32+00:00</td>\n",
       "      <td>1426562641363865602</td>\n",
       "      <td>Magical. Missed everything about this. https:/...</td>\n",
       "      <td>vlindelof</td>\n",
       "    </tr>\n",
       "  </tbody>\n",
       "</table>\n",
       "<p>91 rows × 4 columns</p>\n",
       "</div>"
      ],
      "text/plain": [
       "                    Datetime             Tweet Id  \\\n",
       "0  2021-08-14 23:04:00+00:00  1426681036818325506   \n",
       "1  2021-08-14 22:26:00+00:00  1426671473633071104   \n",
       "2  2021-08-14 21:39:00+00:00  1426659645519798272   \n",
       "3  2021-08-14 21:02:05+00:00  1426650355002187778   \n",
       "4  2021-08-14 20:49:00+00:00  1426647062691688450   \n",
       "..                       ...                  ...   \n",
       "86 2021-08-14 14:15:26+00:00  1426548018946486277   \n",
       "87 2021-08-14 18:57:47+00:00  1426619074017177606   \n",
       "88 2021-08-14 15:19:03+00:00  1426564029569454081   \n",
       "89 2021-08-14 13:58:05+00:00  1426543651564527621   \n",
       "90 2021-08-14 15:13:32+00:00  1426562641363865602   \n",
       "\n",
       "                                                 Text         Username  \n",
       "0   Seeing a full Old Trafford made Saturday's res...           ManUtd  \n",
       "1   For those we lost during the pandemic ❤️\\n\\n#M...           ManUtd  \n",
       "2   The first of many this season, we're sure 🏅\\n\\...           ManUtd  \n",
       "3   The highlights you've all been waiting for! 🍿\\...           ManUtd  \n",
       "4   🔴 𝗝𝗦𝟮𝟱 🔴\\n\\n#MUFC @Sanchooo10 https://t.co/I10...           ManUtd  \n",
       "..                                                ...              ...  \n",
       "86                          🖤 https://t.co/2nhz0ZakYd    Fred08oficial  \n",
       "87                🏃🏻 🤣👩🏼👶👧♥️… https://t.co/oF5172T6vO  ECavaniOfficial  \n",
       "88        back to business 🔴🕸 https://t.co/EgLqLMc84U        awbissaka  \n",
       "89  What an atmosphere at OT!! The start we wanted...       LukeShaw23  \n",
       "90  Magical. Missed everything about this. https:/...        vlindelof  \n",
       "\n",
       "[91 rows x 4 columns]"
      ]
     },
     "execution_count": 88,
     "metadata": {},
     "output_type": "execute_result"
    }
   ],
   "source": [
    "tweets_df1 = pd.DataFrame(tweets_list1, columns=['Datetime', 'Tweet Id', 'Text', 'Username'])\n",
    "tweets_df1"
   ]
  },
  {
   "cell_type": "code",
   "execution_count": 89,
   "metadata": {},
   "outputs": [],
   "source": [
    "tweets_df1.to_csv('14-Aug.csv')"
   ]
  },
  {
   "cell_type": "markdown",
   "metadata": {},
   "source": [
    "Method 2"
   ]
  },
  {
   "cell_type": "code",
   "execution_count": null,
   "metadata": {},
   "outputs": [],
   "source": []
  },
  {
   "cell_type": "code",
   "execution_count": null,
   "metadata": {},
   "outputs": [],
   "source": []
  },
  {
   "cell_type": "code",
   "execution_count": null,
   "metadata": {},
   "outputs": [],
   "source": []
  },
  {
   "cell_type": "code",
   "execution_count": null,
   "metadata": {},
   "outputs": [],
   "source": []
  },
  {
   "cell_type": "code",
   "execution_count": null,
   "metadata": {},
   "outputs": [],
   "source": []
  },
  {
   "cell_type": "code",
   "execution_count": null,
   "metadata": {},
   "outputs": [],
   "source": []
  }
 ],
 "metadata": {
  "kernelspec": {
   "display_name": "Python 3",
   "language": "python",
   "name": "python3"
  },
  "language_info": {
   "codemirror_mode": {
    "name": "ipython",
    "version": 3
   },
   "file_extension": ".py",
   "mimetype": "text/x-python",
   "name": "python",
   "nbconvert_exporter": "python",
   "pygments_lexer": "ipython3",
   "version": "3.8.5"
  }
 },
 "nbformat": 4,
 "nbformat_minor": 4
}
