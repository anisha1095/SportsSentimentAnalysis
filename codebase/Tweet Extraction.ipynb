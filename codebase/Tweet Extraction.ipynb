{
 "cells": [
  {
   "cell_type": "code",
   "execution_count": null,
   "metadata": {},
   "outputs": [],
   "source": [
    "#pip install git+https://github.com/JustAnotherArchivist/snscrape.git"
   ]
  },
  {
   "cell_type": "code",
   "execution_count": 1,
   "metadata": {},
   "outputs": [],
   "source": [
    "import pandas as pd\n",
    "import snscrape.modules.twitter as sntwitter"
   ]
  },
  {
   "cell_type": "markdown",
   "metadata": {},
   "source": [
    "Change the date to extract tweets from below"
   ]
  },
  {
   "cell_type": "code",
   "execution_count": null,
   "metadata": {},
   "outputs": [],
   "source": [
    "#date = '2021-11-28'"
   ]
  },
  {
   "cell_type": "code",
   "execution_count": null,
   "metadata": {},
   "outputs": [],
   "source": [
    "player_accounts = ['@ManUtd','@AnthonyMartial','@MarcusRashford','@D_DeGea', '@paulpogba', '@B_Fernandes8', '@Sanchooo10', '@JesseLingard', '@Donny_beek6', '@HarryMaguire93', '@raphaelvarane', '@masongreenwood', '@Fred08oficial', '@ECavaniOfficial', '@awbissaka', '@AT13Oficial', '@LukeShaw23', '@Amaddiallo_19', '@juanmata8', '@vlindelof', '@NemanjaMatic', '@DalotDiogo', '@ericbailly24', '@deanhenderson', '@Cristiano']"
   ]
  },
  {
   "cell_type": "code",
   "execution_count": null,
   "metadata": {},
   "outputs": [],
   "source": [
    "tweets_list1 = [] \n",
    "for a in player_accounts:\n",
    "    for i,tweet in enumerate(sntwitter.TwitterSearchScraper('from:'+a+' since:2021-08-14 until:2021-08-15').get_items()): #declare a username \n",
    "    #if i>1000: #number of tweets you want to scrape\n",
    "    #   break\n",
    "    #abc = str(tweet.date)\n",
    "    #if abc[0:10] == date:    \n",
    "        tweets_list1.append([tweet.date, tweet.id, tweet.content, tweet.user.username]) #declare the attributes to be returned\n",
    " "
   ]
  },
  {
   "cell_type": "code",
   "execution_count": null,
   "metadata": {},
   "outputs": [],
   "source": [
    "tweets_df1 = pd.DataFrame(tweets_list1, columns=['Datetime', 'Tweet Id', 'Text', 'Username'])\n",
    "tweets_df1"
   ]
  },
  {
   "cell_type": "code",
   "execution_count": null,
   "metadata": {},
   "outputs": [],
   "source": [
    "tweets_df1.to_csv('14-Aug.csv')"
   ]
  },
  {
   "cell_type": "markdown",
   "metadata": {},
   "source": [
    "    Fan account extraction\n",
    "   "
   ]
  },
  {
   "cell_type": "code",
   "execution_count": 8,
   "metadata": {},
   "outputs": [],
   "source": [
    "fan_accounts = ['@TotallyMUFC','@FullTimeDEVILS','UnitedStand','@utdreport', '@TotallyMUFC', '@ManUnitedZone_', '@GNev2', '@barneyrednews', '@UTDTrey', '@RiZzyUTD', '@Vintage_UTD', '@Muppetiers', '@UtdFaithfuls', '@lauriewhitwell', '@JonnyFx1', '@rioferdy5', '@BradJCox_']"
   ]
  },
  {
   "cell_type": "code",
   "execution_count": 63,
   "metadata": {},
   "outputs": [],
   "source": [
    "tweets_list1 = [] \n",
    "for a in fan_accounts:\n",
    "    for i,tweet in enumerate(sntwitter.TwitterSearchScraper('from:'+a+' since:2021-08-14 until:2021-08-15').get_items()): #declare a username     \n",
    "        tweets_list1.append([tweet.date, tweet.id, tweet.content, tweet.user.username]) #declare the attributes to be returned"
   ]
  },
  {
   "cell_type": "code",
   "execution_count": 64,
   "metadata": {},
   "outputs": [
    {
     "data": {
      "text/html": [
       "<div>\n",
       "<style scoped>\n",
       "    .dataframe tbody tr th:only-of-type {\n",
       "        vertical-align: middle;\n",
       "    }\n",
       "\n",
       "    .dataframe tbody tr th {\n",
       "        vertical-align: top;\n",
       "    }\n",
       "\n",
       "    .dataframe thead th {\n",
       "        text-align: right;\n",
       "    }\n",
       "</style>\n",
       "<table border=\"1\" class=\"dataframe\">\n",
       "  <thead>\n",
       "    <tr style=\"text-align: right;\">\n",
       "      <th></th>\n",
       "      <th>Datetime</th>\n",
       "      <th>Tweet Id</th>\n",
       "      <th>Text</th>\n",
       "      <th>Username</th>\n",
       "    </tr>\n",
       "  </thead>\n",
       "  <tbody>\n",
       "    <tr>\n",
       "      <th>0</th>\n",
       "      <td>2021-08-14 21:42:22+00:00</td>\n",
       "      <td>1426660492307845123</td>\n",
       "      <td>@CMagfhloinn @ManUtd @MarcoRedDevil Took over ...</td>\n",
       "      <td>TotallyMUFC</td>\n",
       "    </tr>\n",
       "    <tr>\n",
       "      <th>1</th>\n",
       "      <td>2021-08-14 21:41:10+00:00</td>\n",
       "      <td>1426660192771612679</td>\n",
       "      <td>@SebMUFC21 @ManUtd @MarcoRedDevil Where did I ...</td>\n",
       "      <td>TotallyMUFC</td>\n",
       "    </tr>\n",
       "    <tr>\n",
       "      <th>2</th>\n",
       "      <td>2021-08-14 21:40:33+00:00</td>\n",
       "      <td>1426660037209071623</td>\n",
       "      <td>@woodward_sir @4shaann I praised pogba earlier on</td>\n",
       "      <td>TotallyMUFC</td>\n",
       "    </tr>\n",
       "    <tr>\n",
       "      <th>3</th>\n",
       "      <td>2021-08-14 21:40:11+00:00</td>\n",
       "      <td>1426659945890697217</td>\n",
       "      <td>@CMagfhloinn @ManUtd @MarcoRedDevil And what h...</td>\n",
       "      <td>TotallyMUFC</td>\n",
       "    </tr>\n",
       "    <tr>\n",
       "      <th>4</th>\n",
       "      <td>2021-08-14 21:39:22+00:00</td>\n",
       "      <td>1426659738583019522</td>\n",
       "      <td>@DredUtd @MikeOxl62656511 🤣🤣 calm down Sigmund...</td>\n",
       "      <td>TotallyMUFC</td>\n",
       "    </tr>\n",
       "    <tr>\n",
       "      <th>...</th>\n",
       "      <td>...</td>\n",
       "      <td>...</td>\n",
       "      <td>...</td>\n",
       "      <td>...</td>\n",
       "    </tr>\n",
       "    <tr>\n",
       "      <th>640</th>\n",
       "      <td>2021-08-14 10:59:10+00:00</td>\n",
       "      <td>1426498628626092032</td>\n",
       "      <td>Time for Greenwood to step up to the responsib...</td>\n",
       "      <td>BradJCox_</td>\n",
       "    </tr>\n",
       "    <tr>\n",
       "      <th>641</th>\n",
       "      <td>2021-08-14 10:33:35+00:00</td>\n",
       "      <td>1426492188209340419</td>\n",
       "      <td>Most likely Pogba on the left, James on the ri...</td>\n",
       "      <td>BradJCox_</td>\n",
       "    </tr>\n",
       "    <tr>\n",
       "      <th>642</th>\n",
       "      <td>2021-08-14 10:30:42+00:00</td>\n",
       "      <td>1426491463496523780</td>\n",
       "      <td>#MUFC starting lineup: De Gea, Wan-Bissaka, Ma...</td>\n",
       "      <td>BradJCox_</td>\n",
       "    </tr>\n",
       "    <tr>\n",
       "      <th>643</th>\n",
       "      <td>2021-08-14 09:16:41+00:00</td>\n",
       "      <td>1426472836366020608</td>\n",
       "      <td>It has been exactly 6,300 days since Leeds Uni...</td>\n",
       "      <td>BradJCox_</td>\n",
       "    </tr>\n",
       "    <tr>\n",
       "      <th>644</th>\n",
       "      <td>2021-08-14 07:00:00+00:00</td>\n",
       "      <td>1426438438077804546</td>\n",
       "      <td>Can't watch #MUFC's opening Premier League fix...</td>\n",
       "      <td>BradJCox_</td>\n",
       "    </tr>\n",
       "  </tbody>\n",
       "</table>\n",
       "<p>645 rows × 4 columns</p>\n",
       "</div>"
      ],
      "text/plain": [
       "                     Datetime             Tweet Id  \\\n",
       "0   2021-08-14 21:42:22+00:00  1426660492307845123   \n",
       "1   2021-08-14 21:41:10+00:00  1426660192771612679   \n",
       "2   2021-08-14 21:40:33+00:00  1426660037209071623   \n",
       "3   2021-08-14 21:40:11+00:00  1426659945890697217   \n",
       "4   2021-08-14 21:39:22+00:00  1426659738583019522   \n",
       "..                        ...                  ...   \n",
       "640 2021-08-14 10:59:10+00:00  1426498628626092032   \n",
       "641 2021-08-14 10:33:35+00:00  1426492188209340419   \n",
       "642 2021-08-14 10:30:42+00:00  1426491463496523780   \n",
       "643 2021-08-14 09:16:41+00:00  1426472836366020608   \n",
       "644 2021-08-14 07:00:00+00:00  1426438438077804546   \n",
       "\n",
       "                                                  Text     Username  \n",
       "0    @CMagfhloinn @ManUtd @MarcoRedDevil Took over ...  TotallyMUFC  \n",
       "1    @SebMUFC21 @ManUtd @MarcoRedDevil Where did I ...  TotallyMUFC  \n",
       "2    @woodward_sir @4shaann I praised pogba earlier on  TotallyMUFC  \n",
       "3    @CMagfhloinn @ManUtd @MarcoRedDevil And what h...  TotallyMUFC  \n",
       "4    @DredUtd @MikeOxl62656511 🤣🤣 calm down Sigmund...  TotallyMUFC  \n",
       "..                                                 ...          ...  \n",
       "640  Time for Greenwood to step up to the responsib...    BradJCox_  \n",
       "641  Most likely Pogba on the left, James on the ri...    BradJCox_  \n",
       "642  #MUFC starting lineup: De Gea, Wan-Bissaka, Ma...    BradJCox_  \n",
       "643  It has been exactly 6,300 days since Leeds Uni...    BradJCox_  \n",
       "644  Can't watch #MUFC's opening Premier League fix...    BradJCox_  \n",
       "\n",
       "[645 rows x 4 columns]"
      ]
     },
     "execution_count": 64,
     "metadata": {},
     "output_type": "execute_result"
    }
   ],
   "source": [
    "tweets_df2 = pd.DataFrame(tweets_list1, columns=['Datetime', 'Tweet Id', 'Text', 'Username'])\n",
    "tweets_df2"
   ]
  },
  {
   "cell_type": "code",
   "execution_count": 65,
   "metadata": {},
   "outputs": [],
   "source": [
    "tweets_df2.to_csv('14-Aug-fan.csv')"
   ]
  },
  {
   "cell_type": "code",
   "execution_count": null,
   "metadata": {},
   "outputs": [],
   "source": []
  },
  {
   "cell_type": "code",
   "execution_count": null,
   "metadata": {},
   "outputs": [],
   "source": []
  }
 ],
 "metadata": {
  "kernelspec": {
   "display_name": "Python 3",
   "language": "python",
   "name": "python3"
  },
  "language_info": {
   "codemirror_mode": {
    "name": "ipython",
    "version": 3
   },
   "file_extension": ".py",
   "mimetype": "text/x-python",
   "name": "python",
   "nbconvert_exporter": "python",
   "pygments_lexer": "ipython3",
   "version": "3.8.5"
  }
 },
 "nbformat": 4,
 "nbformat_minor": 4
}
