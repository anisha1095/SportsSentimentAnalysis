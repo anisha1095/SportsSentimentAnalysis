{
 "cells": [
  {
   "cell_type": "markdown",
   "metadata": {
    "id": "rakkgLJa64KU"
   },
   "source": [
    "\n",
    "## Extracting tweets from Twitter"
   ]
  },
  {
   "cell_type": "code",
   "execution_count": 8,
   "metadata": {
    "id": "YYUaFr6Q-iKR"
   },
   "outputs": [],
   "source": [
    "# import tweepy\n",
    "# import csv\n",
    "# import pandas as pd\n",
    "\n",
    "# consumer_key = 'uCF8JAD34AkSthfmUbWNZJ35G'\n",
    "# consumer_secret = 'DFPQeniPYgTxDlmdCJWpTbjE7xnM8zV9OoUtYvSvBIFlioqNYj'\n",
    "# access_token = '780766416714596354-AOvrVFUyGaNRp0w0zcdQC7qFgGTFhjW'\n",
    "# access_token_secret = '6rdWJ8us3RXOHwActz7d5ttsIx8FRSDfEWebqTBxBkj2K'\n",
    "\n",
    "# # auth = tweepy.OAuthHandler(consumer_key, consumer_secret)\n",
    "# # auth.set_access_token(access_token, access_token_secret)\n",
    "# # api = tweepy.API(auth,wait_on_rate_limit=True)\n",
    "\n",
    "# # csvFile = open('tweets.csv', 'a')\n",
    "# # csvWriter = csv.writer(csvFile)\n",
    "\n",
    "# # count = 0\n",
    "# # # api.update_status(status='Test2') -- To test if access tokens are working fine.\n",
    "\n",
    "# # for tweet in tweepy.Cursor(api.search,\n",
    "# #                            q=\"ManUtd\",\n",
    "# #                            count=100,\n",
    "# #                            lang=\"en\",\n",
    "# #                            since=\"2021-03-01\",\n",
    "# #                            until=\"2021-04-10\",\n",
    "# #                            screen_name=\"ManUtd\"\n",
    "# #                            ).items():\n",
    "# #     print (tweet.created_at, tweet.text)\n",
    "# #     csvWriter.writerow([tweet.created_at, tweet.text.encode('utf-8')])"
   ]
  },
  {
   "cell_type": "code",
   "execution_count": 1,
   "metadata": {
    "colab": {
     "base_uri": "https://localhost:8080/"
    },
    "id": "myVcTT8cCV0L",
    "outputId": "d5eabc96-a733-433a-9903-c51411ed96f1"
   },
   "outputs": [
    {
     "name": "stdout",
     "output_type": "stream",
     "text": [
      "Requirement already satisfied: xlsxwriter in c:\\users\\anish\\anaconda3\\lib\\site-packages (1.3.7)\n",
      "Note: you may need to restart the kernel to use updated packages.\n"
     ]
    }
   ],
   "source": [
    "pip install xlsxwriter"
   ]
  },
  {
   "cell_type": "code",
   "execution_count": 13,
   "metadata": {},
   "outputs": [
    {
     "name": "stdout",
     "output_type": "stream",
     "text": [
      "Collecting tweepy==3.10\n",
      "  Downloading tweepy-3.10.0-py2.py3-none-any.whl (30 kB)\n",
      "Requirement already satisfied: requests-oauthlib>=0.7.0 in c:\\users\\anish\\anaconda3\\lib\\site-packages (from tweepy==3.10) (1.3.0)\n",
      "Requirement already satisfied: requests[socks]>=2.11.1 in c:\\users\\anish\\anaconda3\\lib\\site-packages (from tweepy==3.10) (2.24.0)\n",
      "Requirement already satisfied: six>=1.10.0 in c:\\users\\anish\\anaconda3\\lib\\site-packages (from tweepy==3.10) (1.15.0)\n",
      "Requirement already satisfied: oauthlib>=3.0.0 in c:\\users\\anish\\anaconda3\\lib\\site-packages (from requests-oauthlib>=0.7.0->tweepy==3.10) (3.1.1)\n",
      "Requirement already satisfied: chardet<4,>=3.0.2 in c:\\users\\anish\\anaconda3\\lib\\site-packages (from requests[socks]>=2.11.1->tweepy==3.10) (3.0.4)\n",
      "Requirement already satisfied: urllib3!=1.25.0,!=1.25.1,<1.26,>=1.21.1 in c:\\users\\anish\\anaconda3\\lib\\site-packages (from requests[socks]>=2.11.1->tweepy==3.10) (1.25.11)\n",
      "Requirement already satisfied: idna<3,>=2.5 in c:\\users\\anish\\anaconda3\\lib\\site-packages (from requests[socks]>=2.11.1->tweepy==3.10) (2.10)\n",
      "Requirement already satisfied: certifi>=2017.4.17 in c:\\users\\anish\\anaconda3\\lib\\site-packages (from requests[socks]>=2.11.1->tweepy==3.10) (2020.6.20)\n",
      "Requirement already satisfied: PySocks!=1.5.7,>=1.5.6; extra == \"socks\" in c:\\users\\anish\\anaconda3\\lib\\site-packages (from requests[socks]>=2.11.1->tweepy==3.10) (1.7.1)\n",
      "Installing collected packages: tweepy\n",
      "  Attempting uninstall: tweepy\n",
      "    Found existing installation: tweepy 4.3.0\n",
      "    Uninstalling tweepy-4.3.0:\n",
      "      Successfully uninstalled tweepy-4.3.0\n",
      "Successfully installed tweepy-3.10.0\n",
      "Note: you may need to restart the kernel to use updated packages.\n"
     ]
    }
   ],
   "source": [
    "pip install tweepy==3.10"
   ]
  },
  {
   "cell_type": "code",
   "execution_count": 1,
   "metadata": {},
   "outputs": [
    {
     "name": "stdout",
     "output_type": "stream",
     "text": [
      "Name: tweepy\n",
      "Version: 3.10.0\n",
      "Summary: Twitter library for Python\n",
      "Home-page: https://www.tweepy.org/\n",
      "Author: Joshua Roesslein\n",
      "Author-email: tweepy@googlegroups.com\n",
      "License: MIT\n",
      "Location: c:\\users\\anish\\anaconda3\\lib\\site-packages\n",
      "Requires: six, requests-oauthlib, requests\n",
      "Required-by: \n",
      "Note: you may need to restart the kernel to use updated packages.\n"
     ]
    }
   ],
   "source": [
    "pip show tweepy"
   ]
  },
  {
   "cell_type": "code",
   "execution_count": 43,
   "metadata": {
    "colab": {
     "base_uri": "https://localhost:8080/"
    },
    "id": "33xtx6brCO0d",
    "outputId": "2c69e178-5d62-45fd-982e-60ba6e6ed164"
   },
   "outputs": [
    {
     "name": "stdout",
     "output_type": "stream",
     "text": [
      "Status(_api=<tweepy.api.API object at 0x7f03e1ed30d0>, _json={'created_at': 'Sun Nov 14 22:04:12 +0000 2021', 'id': 1460005673924706304, 'id_str': '1460005673924706304', 'text': '🌍 Three Reds featured for their respective nations in #WorldCup qualifying tonight 👇\\n\\n#MUFC', 'truncated': False, 'entities': {'hashtags': [{'text': 'WorldCup', 'indices': [54, 63]}, {'text': 'MUFC', 'indices': [86, 91]}], 'symbols': [], 'user_mentions': [], 'urls': []}, 'source': '<a href=\"https://ads-api.twitter.com\" rel=\"nofollow\">Twitter for Advertisers.</a>', 'in_reply_to_status_id': None, 'in_reply_to_status_id_str': None, 'in_reply_to_user_id': None, 'in_reply_to_user_id_str': None, 'in_reply_to_screen_name': None, 'user': {'id': 558797310, 'id_str': '558797310', 'name': 'Manchester United', 'screen_name': 'ManUtd', 'location': 'Old Trafford, Manchester', 'description': 'Lest We Forget.', 'url': 'https://t.co/KdFTLqSgrW', 'entities': {'url': {'urls': [{'url': 'https://t.co/KdFTLqSgrW', 'expanded_url': 'http://manutd.co/ManUtdApp', 'display_url': 'manutd.co/ManUtdApp', 'indices': [0, 23]}]}, 'description': {'urls': []}}, 'protected': False, 'followers_count': 28355820, 'friends_count': 164, 'listed_count': 23993, 'created_at': 'Fri Apr 20 15:17:43 +0000 2012', 'favourites_count': 4207, 'utc_offset': None, 'time_zone': None, 'geo_enabled': True, 'verified': True, 'statuses_count': 70349, 'lang': None, 'contributors_enabled': False, 'is_translator': False, 'is_translation_enabled': False, 'profile_background_color': '000000', 'profile_background_image_url': 'http://abs.twimg.com/images/themes/theme14/bg.gif', 'profile_background_image_url_https': 'https://abs.twimg.com/images/themes/theme14/bg.gif', 'profile_background_tile': False, 'profile_image_url': 'http://pbs.twimg.com/profile_images/1456599624521814024/YxLThgEV_normal.png', 'profile_image_url_https': 'https://pbs.twimg.com/profile_images/1456599624521814024/YxLThgEV_normal.png', 'profile_banner_url': 'https://pbs.twimg.com/profile_banners/558797310/1636115388', 'profile_link_color': 'B30000', 'profile_sidebar_border_color': 'FFFFFF', 'profile_sidebar_fill_color': 'EFEFEF', 'profile_text_color': '333333', 'profile_use_background_image': True, 'has_extended_profile': False, 'default_profile': False, 'default_profile_image': False, 'following': False, 'follow_request_sent': False, 'notifications': False, 'translator_type': 'regular', 'withheld_in_countries': []}, 'geo': None, 'coordinates': None, 'place': None, 'contributors': None, 'is_quote_status': False, 'retweet_count': 138, 'favorite_count': 2703, 'favorited': False, 'retweeted': False, 'lang': 'en'}, created_at=datetime.datetime(2021, 11, 14, 22, 4, 12), id=1460005673924706304, id_str='1460005673924706304', text='🌍 Three Reds featured for their respective nations in #WorldCup qualifying tonight 👇\\n\\n#MUFC', truncated=False, entities={'hashtags': [{'text': 'WorldCup', 'indices': [54, 63]}, {'text': 'MUFC', 'indices': [86, 91]}], 'symbols': [], 'user_mentions': [], 'urls': []}, source='Twitter for Advertisers.', source_url='https://ads-api.twitter.com', in_reply_to_status_id=None, in_reply_to_status_id_str=None, in_reply_to_user_id=None, in_reply_to_user_id_str=None, in_reply_to_screen_name=None, author=User(_api=<tweepy.api.API object at 0x7f03e1ed30d0>, _json={'id': 558797310, 'id_str': '558797310', 'name': 'Manchester United', 'screen_name': 'ManUtd', 'location': 'Old Trafford, Manchester', 'description': 'Lest We Forget.', 'url': 'https://t.co/KdFTLqSgrW', 'entities': {'url': {'urls': [{'url': 'https://t.co/KdFTLqSgrW', 'expanded_url': 'http://manutd.co/ManUtdApp', 'display_url': 'manutd.co/ManUtdApp', 'indices': [0, 23]}]}, 'description': {'urls': []}}, 'protected': False, 'followers_count': 28355820, 'friends_count': 164, 'listed_count': 23993, 'created_at': 'Fri Apr 20 15:17:43 +0000 2012', 'favourites_count': 4207, 'utc_offset': None, 'time_zone': None, 'geo_enabled': True, 'verified': True, 'statuses_count': 70349, 'lang': None, 'contributors_enabled': False, 'is_translator': False, 'is_translation_enabled': False, 'profile_background_color': '000000', 'profile_background_image_url': 'http://abs.twimg.com/images/themes/theme14/bg.gif', 'profile_background_image_url_https': 'https://abs.twimg.com/images/themes/theme14/bg.gif', 'profile_background_tile': False, 'profile_image_url': 'http://pbs.twimg.com/profile_images/1456599624521814024/YxLThgEV_normal.png', 'profile_image_url_https': 'https://pbs.twimg.com/profile_images/1456599624521814024/YxLThgEV_normal.png', 'profile_banner_url': 'https://pbs.twimg.com/profile_banners/558797310/1636115388', 'profile_link_color': 'B30000', 'profile_sidebar_border_color': 'FFFFFF', 'profile_sidebar_fill_color': 'EFEFEF', 'profile_text_color': '333333', 'profile_use_background_image': True, 'has_extended_profile': False, 'default_profile': False, 'default_profile_image': False, 'following': False, 'follow_request_sent': False, 'notifications': False, 'translator_type': 'regular', 'withheld_in_countries': []}, id=558797310, id_str='558797310', name='Manchester United', screen_name='ManUtd', location='Old Trafford, Manchester', description='Lest We Forget.', url='https://t.co/KdFTLqSgrW', entities={'url': {'urls': [{'url': 'https://t.co/KdFTLqSgrW', 'expanded_url': 'http://manutd.co/ManUtdApp', 'display_url': 'manutd.co/ManUtdApp', 'indices': [0, 23]}]}, 'description': {'urls': []}}, protected=False, followers_count=28355820, friends_count=164, listed_count=23993, created_at=datetime.datetime(2012, 4, 20, 15, 17, 43), favourites_count=4207, utc_offset=None, time_zone=None, geo_enabled=True, verified=True, statuses_count=70349, lang=None, contributors_enabled=False, is_translator=False, is_translation_enabled=False, profile_background_color='000000', profile_background_image_url='http://abs.twimg.com/images/themes/theme14/bg.gif', profile_background_image_url_https='https://abs.twimg.com/images/themes/theme14/bg.gif', profile_background_tile=False, profile_image_url='http://pbs.twimg.com/profile_images/1456599624521814024/YxLThgEV_normal.png', profile_image_url_https='https://pbs.twimg.com/profile_images/1456599624521814024/YxLThgEV_normal.png', profile_banner_url='https://pbs.twimg.com/profile_banners/558797310/1636115388', profile_link_color='B30000', profile_sidebar_border_color='FFFFFF', profile_sidebar_fill_color='EFEFEF', profile_text_color='333333', profile_use_background_image=True, has_extended_profile=False, default_profile=False, default_profile_image=False, following=False, follow_request_sent=False, notifications=False, translator_type='regular', withheld_in_countries=[]), user=User(_api=<tweepy.api.API object at 0x7f03e1ed30d0>, _json={'id': 558797310, 'id_str': '558797310', 'name': 'Manchester United', 'screen_name': 'ManUtd', 'location': 'Old Trafford, Manchester', 'description': 'Lest We Forget.', 'url': 'https://t.co/KdFTLqSgrW', 'entities': {'url': {'urls': [{'url': 'https://t.co/KdFTLqSgrW', 'expanded_url': 'http://manutd.co/ManUtdApp', 'display_url': 'manutd.co/ManUtdApp', 'indices': [0, 23]}]}, 'description': {'urls': []}}, 'protected': False, 'followers_count': 28355820, 'friends_count': 164, 'listed_count': 23993, 'created_at': 'Fri Apr 20 15:17:43 +0000 2012', 'favourites_count': 4207, 'utc_offset': None, 'time_zone': None, 'geo_enabled': True, 'verified': True, 'statuses_count': 70349, 'lang': None, 'contributors_enabled': False, 'is_translator': False, 'is_translation_enabled': False, 'profile_background_color': '000000', 'profile_background_image_url': 'http://abs.twimg.com/images/themes/theme14/bg.gif', 'profile_background_image_url_https': 'https://abs.twimg.com/images/themes/theme14/bg.gif', 'profile_background_tile': False, 'profile_image_url': 'http://pbs.twimg.com/profile_images/1456599624521814024/YxLThgEV_normal.png', 'profile_image_url_https': 'https://pbs.twimg.com/profile_images/1456599624521814024/YxLThgEV_normal.png', 'profile_banner_url': 'https://pbs.twimg.com/profile_banners/558797310/1636115388', 'profile_link_color': 'B30000', 'profile_sidebar_border_color': 'FFFFFF', 'profile_sidebar_fill_color': 'EFEFEF', 'profile_text_color': '333333', 'profile_use_background_image': True, 'has_extended_profile': False, 'default_profile': False, 'default_profile_image': False, 'following': False, 'follow_request_sent': False, 'notifications': False, 'translator_type': 'regular', 'withheld_in_countries': []}, id=558797310, id_str='558797310', name='Manchester United', screen_name='ManUtd', location='Old Trafford, Manchester', description='Lest We Forget.', url='https://t.co/KdFTLqSgrW', entities={'url': {'urls': [{'url': 'https://t.co/KdFTLqSgrW', 'expanded_url': 'http://manutd.co/ManUtdApp', 'display_url': 'manutd.co/ManUtdApp', 'indices': [0, 23]}]}, 'description': {'urls': []}}, protected=False, followers_count=28355820, friends_count=164, listed_count=23993, created_at=datetime.datetime(2012, 4, 20, 15, 17, 43), favourites_count=4207, utc_offset=None, time_zone=None, geo_enabled=True, verified=True, statuses_count=70349, lang=None, contributors_enabled=False, is_translator=False, is_translation_enabled=False, profile_background_color='000000', profile_background_image_url='http://abs.twimg.com/images/themes/theme14/bg.gif', profile_background_image_url_https='https://abs.twimg.com/images/themes/theme14/bg.gif', profile_background_tile=False, profile_image_url='http://pbs.twimg.com/profile_images/1456599624521814024/YxLThgEV_normal.png', profile_image_url_https='https://pbs.twimg.com/profile_images/1456599624521814024/YxLThgEV_normal.png', profile_banner_url='https://pbs.twimg.com/profile_banners/558797310/1636115388', profile_link_color='B30000', profile_sidebar_border_color='FFFFFF', profile_sidebar_fill_color='EFEFEF', profile_text_color='333333', profile_use_background_image=True, has_extended_profile=False, default_profile=False, default_profile_image=False, following=False, follow_request_sent=False, notifications=False, translator_type='regular', withheld_in_countries=[]), geo=None, coordinates=None, place=None, contributors=None, is_quote_status=False, retweet_count=138, favorite_count=2703, favorited=False, retweeted=False, lang='en')\n",
      "Status(_api=<tweepy.api.API object at 0x7f03e1ed30d0>, _json={'created_at': 'Sun Nov 14 20:51:00 +0000 2021', 'id': 1459987249584431105, 'id_str': '1459987249584431105', 'text': \"How will next year's winter #WorldCup impact the 2022/23 #PL schedule? 📅\\n\\n#MUFC\", 'truncated': False, 'entities': {'hashtags': [{'text': 'WorldCup', 'indices': [28, 37]}, {'text': 'PL', 'indices': [57, 60]}, {'text': 'MUFC', 'indices': [74, 79]}], 'symbols': [], 'user_mentions': [], 'urls': []}, 'source': '<a href=\"https://ads-api.twitter.com\" rel=\"nofollow\">Twitter for Advertisers.</a>', 'in_reply_to_status_id': None, 'in_reply_to_status_id_str': None, 'in_reply_to_user_id': None, 'in_reply_to_user_id_str': None, 'in_reply_to_screen_name': None, 'user': {'id': 558797310, 'id_str': '558797310', 'name': 'Manchester United', 'screen_name': 'ManUtd', 'location': 'Old Trafford, Manchester', 'description': 'Lest We Forget.', 'url': 'https://t.co/KdFTLqSgrW', 'entities': {'url': {'urls': [{'url': 'https://t.co/KdFTLqSgrW', 'expanded_url': 'http://manutd.co/ManUtdApp', 'display_url': 'manutd.co/ManUtdApp', 'indices': [0, 23]}]}, 'description': {'urls': []}}, 'protected': False, 'followers_count': 28355820, 'friends_count': 164, 'listed_count': 23993, 'created_at': 'Fri Apr 20 15:17:43 +0000 2012', 'favourites_count': 4207, 'utc_offset': None, 'time_zone': None, 'geo_enabled': True, 'verified': True, 'statuses_count': 70349, 'lang': None, 'contributors_enabled': False, 'is_translator': False, 'is_translation_enabled': False, 'profile_background_color': '000000', 'profile_background_image_url': 'http://abs.twimg.com/images/themes/theme14/bg.gif', 'profile_background_image_url_https': 'https://abs.twimg.com/images/themes/theme14/bg.gif', 'profile_background_tile': False, 'profile_image_url': 'http://pbs.twimg.com/profile_images/1456599624521814024/YxLThgEV_normal.png', 'profile_image_url_https': 'https://pbs.twimg.com/profile_images/1456599624521814024/YxLThgEV_normal.png', 'profile_banner_url': 'https://pbs.twimg.com/profile_banners/558797310/1636115388', 'profile_link_color': 'B30000', 'profile_sidebar_border_color': 'FFFFFF', 'profile_sidebar_fill_color': 'EFEFEF', 'profile_text_color': '333333', 'profile_use_background_image': True, 'has_extended_profile': False, 'default_profile': False, 'default_profile_image': False, 'following': False, 'follow_request_sent': False, 'notifications': False, 'translator_type': 'regular', 'withheld_in_countries': []}, 'geo': None, 'coordinates': None, 'place': None, 'contributors': None, 'is_quote_status': False, 'retweet_count': 173, 'favorite_count': 2896, 'favorited': False, 'retweeted': False, 'lang': 'en'}, created_at=datetime.datetime(2021, 11, 14, 20, 51), id=1459987249584431105, id_str='1459987249584431105', text=\"How will next year's winter #WorldCup impact the 2022/23 #PL schedule? 📅\\n\\n#MUFC\", truncated=False, entities={'hashtags': [{'text': 'WorldCup', 'indices': [28, 37]}, {'text': 'PL', 'indices': [57, 60]}, {'text': 'MUFC', 'indices': [74, 79]}], 'symbols': [], 'user_mentions': [], 'urls': []}, source='Twitter for Advertisers.', source_url='https://ads-api.twitter.com', in_reply_to_status_id=None, in_reply_to_status_id_str=None, in_reply_to_user_id=None, in_reply_to_user_id_str=None, in_reply_to_screen_name=None, author=User(_api=<tweepy.api.API object at 0x7f03e1ed30d0>, _json={'id': 558797310, 'id_str': '558797310', 'name': 'Manchester United', 'screen_name': 'ManUtd', 'location': 'Old Trafford, Manchester', 'description': 'Lest We Forget.', 'url': 'https://t.co/KdFTLqSgrW', 'entities': {'url': {'urls': [{'url': 'https://t.co/KdFTLqSgrW', 'expanded_url': 'http://manutd.co/ManUtdApp', 'display_url': 'manutd.co/ManUtdApp', 'indices': [0, 23]}]}, 'description': {'urls': []}}, 'protected': False, 'followers_count': 28355820, 'friends_count': 164, 'listed_count': 23993, 'created_at': 'Fri Apr 20 15:17:43 +0000 2012', 'favourites_count': 4207, 'utc_offset': None, 'time_zone': None, 'geo_enabled': True, 'verified': True, 'statuses_count': 70349, 'lang': None, 'contributors_enabled': False, 'is_translator': False, 'is_translation_enabled': False, 'profile_background_color': '000000', 'profile_background_image_url': 'http://abs.twimg.com/images/themes/theme14/bg.gif', 'profile_background_image_url_https': 'https://abs.twimg.com/images/themes/theme14/bg.gif', 'profile_background_tile': False, 'profile_image_url': 'http://pbs.twimg.com/profile_images/1456599624521814024/YxLThgEV_normal.png', 'profile_image_url_https': 'https://pbs.twimg.com/profile_images/1456599624521814024/YxLThgEV_normal.png', 'profile_banner_url': 'https://pbs.twimg.com/profile_banners/558797310/1636115388', 'profile_link_color': 'B30000', 'profile_sidebar_border_color': 'FFFFFF', 'profile_sidebar_fill_color': 'EFEFEF', 'profile_text_color': '333333', 'profile_use_background_image': True, 'has_extended_profile': False, 'default_profile': False, 'default_profile_image': False, 'following': False, 'follow_request_sent': False, 'notifications': False, 'translator_type': 'regular', 'withheld_in_countries': []}, id=558797310, id_str='558797310', name='Manchester United', screen_name='ManUtd', location='Old Trafford, Manchester', description='Lest We Forget.', url='https://t.co/KdFTLqSgrW', entities={'url': {'urls': [{'url': 'https://t.co/KdFTLqSgrW', 'expanded_url': 'http://manutd.co/ManUtdApp', 'display_url': 'manutd.co/ManUtdApp', 'indices': [0, 23]}]}, 'description': {'urls': []}}, protected=False, followers_count=28355820, friends_count=164, listed_count=23993, created_at=datetime.datetime(2012, 4, 20, 15, 17, 43), favourites_count=4207, utc_offset=None, time_zone=None, geo_enabled=True, verified=True, statuses_count=70349, lang=None, contributors_enabled=False, is_translator=False, is_translation_enabled=False, profile_background_color='000000', profile_background_image_url='http://abs.twimg.com/images/themes/theme14/bg.gif', profile_background_image_url_https='https://abs.twimg.com/images/themes/theme14/bg.gif', profile_background_tile=False, profile_image_url='http://pbs.twimg.com/profile_images/1456599624521814024/YxLThgEV_normal.png', profile_image_url_https='https://pbs.twimg.com/profile_images/1456599624521814024/YxLThgEV_normal.png', profile_banner_url='https://pbs.twimg.com/profile_banners/558797310/1636115388', profile_link_color='B30000', profile_sidebar_border_color='FFFFFF', profile_sidebar_fill_color='EFEFEF', profile_text_color='333333', profile_use_background_image=True, has_extended_profile=False, default_profile=False, default_profile_image=False, following=False, follow_request_sent=False, notifications=False, translator_type='regular', withheld_in_countries=[]), user=User(_api=<tweepy.api.API object at 0x7f03e1ed30d0>, _json={'id': 558797310, 'id_str': '558797310', 'name': 'Manchester United', 'screen_name': 'ManUtd', 'location': 'Old Trafford, Manchester', 'description': 'Lest We Forget.', 'url': 'https://t.co/KdFTLqSgrW', 'entities': {'url': {'urls': [{'url': 'https://t.co/KdFTLqSgrW', 'expanded_url': 'http://manutd.co/ManUtdApp', 'display_url': 'manutd.co/ManUtdApp', 'indices': [0, 23]}]}, 'description': {'urls': []}}, 'protected': False, 'followers_count': 28355820, 'friends_count': 164, 'listed_count': 23993, 'created_at': 'Fri Apr 20 15:17:43 +0000 2012', 'favourites_count': 4207, 'utc_offset': None, 'time_zone': None, 'geo_enabled': True, 'verified': True, 'statuses_count': 70349, 'lang': None, 'contributors_enabled': False, 'is_translator': False, 'is_translation_enabled': False, 'profile_background_color': '000000', 'profile_background_image_url': 'http://abs.twimg.com/images/themes/theme14/bg.gif', 'profile_background_image_url_https': 'https://abs.twimg.com/images/themes/theme14/bg.gif', 'profile_background_tile': False, 'profile_image_url': 'http://pbs.twimg.com/profile_images/1456599624521814024/YxLThgEV_normal.png', 'profile_image_url_https': 'https://pbs.twimg.com/profile_images/1456599624521814024/YxLThgEV_normal.png', 'profile_banner_url': 'https://pbs.twimg.com/profile_banners/558797310/1636115388', 'profile_link_color': 'B30000', 'profile_sidebar_border_color': 'FFFFFF', 'profile_sidebar_fill_color': 'EFEFEF', 'profile_text_color': '333333', 'profile_use_background_image': True, 'has_extended_profile': False, 'default_profile': False, 'default_profile_image': False, 'following': False, 'follow_request_sent': False, 'notifications': False, 'translator_type': 'regular', 'withheld_in_countries': []}, id=558797310, id_str='558797310', name='Manchester United', screen_name='ManUtd', location='Old Trafford, Manchester', description='Lest We Forget.', url='https://t.co/KdFTLqSgrW', entities={'url': {'urls': [{'url': 'https://t.co/KdFTLqSgrW', 'expanded_url': 'http://manutd.co/ManUtdApp', 'display_url': 'manutd.co/ManUtdApp', 'indices': [0, 23]}]}, 'description': {'urls': []}}, protected=False, followers_count=28355820, friends_count=164, listed_count=23993, created_at=datetime.datetime(2012, 4, 20, 15, 17, 43), favourites_count=4207, utc_offset=None, time_zone=None, geo_enabled=True, verified=True, statuses_count=70349, lang=None, contributors_enabled=False, is_translator=False, is_translation_enabled=False, profile_background_color='000000', profile_background_image_url='http://abs.twimg.com/images/themes/theme14/bg.gif', profile_background_image_url_https='https://abs.twimg.com/images/themes/theme14/bg.gif', profile_background_tile=False, profile_image_url='http://pbs.twimg.com/profile_images/1456599624521814024/YxLThgEV_normal.png', profile_image_url_https='https://pbs.twimg.com/profile_images/1456599624521814024/YxLThgEV_normal.png', profile_banner_url='https://pbs.twimg.com/profile_banners/558797310/1636115388', profile_link_color='B30000', profile_sidebar_border_color='FFFFFF', profile_sidebar_fill_color='EFEFEF', profile_text_color='333333', profile_use_background_image=True, has_extended_profile=False, default_profile=False, default_profile_image=False, following=False, follow_request_sent=False, notifications=False, translator_type='regular', withheld_in_countries=[]), geo=None, coordinates=None, place=None, contributors=None, is_quote_status=False, retweet_count=173, favorite_count=2896, favorited=False, retweeted=False, lang='en')\n"
     ]
    }
   ],
   "source": [
    "# from requests_oauthlib import OAuth1Session\n",
    "# import datetime\n",
    "\n",
    "# twitter = OAuth1Session(consumer_key,\n",
    "#                         client_secret=consumer_secret,\n",
    "#                         resource_owner_key=access_token,\n",
    "#                         resource_owner_secret=access_token_secret)\n",
    "# auth = tweepy.OAuthHandler(consumer_key, consumer_secret)\n",
    "# auth.set_access_token(access_token, access_token_secret)\n",
    "\n",
    "# api = tweepy.API(auth,wait_on_rate_limit=True)\n",
    "# # Collecting tweets\n",
    "# count = 10 # Set the number of tweets to retrieve\n",
    "# date = datetime.date(2021, 8, 11)\n",
    "# userID = \"manUtd\"\n",
    "# # tweets = api.user_timeline(screen_name= userID, \n",
    "# #                            count=10,\n",
    "# #                            include_rts = False,\n",
    "# #                            # Necessary to keep full_text \n",
    "# #                            # otherwise only the first 140 words are extracted\n",
    "# #                           #  tweet_mode = 'extended'\n",
    "# #                            )\n",
    "\n",
    "# # for status in tweepy.Cursor(api.user_timeline, screen_name='@manUtd', tweet_mode=\"extended\").items():\n",
    "# #     print(status.full_text)\n",
    "# tweets = tweepy.Cursor(api.user_timeline,\n",
    "#                    q=\"\",\n",
    "#                    screen_name=\"@manUtd\",\n",
    "#                    lang=\"en\",\n",
    "#                   #  since=date,\n",
    "#                    until=\"2021-11-11\",\n",
    "#                    result_type=\"recent\"\n",
    "#                    ).items(2)\n",
    "# for tweet in tweets: \n",
    "#   print(tweet)"
   ]
  },
  {
   "cell_type": "code",
   "execution_count": 6,
   "metadata": {
    "colab": {
     "base_uri": "https://localhost:8080/"
    },
    "id": "10Ay_k0UXVJZ",
    "outputId": "49d977df-d9ab-4450-966c-1e22a4416776"
   },
   "outputs": [
    {
     "ename": "RateLimitError",
     "evalue": "[{'message': 'Rate limit exceeded', 'code': 88}]",
     "output_type": "error",
     "traceback": [
      "\u001b[1;31m---------------------------------------------------------------------------\u001b[0m",
      "\u001b[1;31mRateLimitError\u001b[0m                            Traceback (most recent call last)",
      "\u001b[1;32m<ipython-input-6-73bbd952a26d>\u001b[0m in \u001b[0;36m<module>\u001b[1;34m\u001b[0m\n\u001b[0;32m     20\u001b[0m \u001b[1;33m\u001b[0m\u001b[0m\n\u001b[0;32m     21\u001b[0m \u001b[0mtweets\u001b[0m \u001b[1;33m=\u001b[0m \u001b[1;33m[\u001b[0m\u001b[1;33m]\u001b[0m\u001b[1;33m\u001b[0m\u001b[1;33m\u001b[0m\u001b[0m\n\u001b[1;32m---> 22\u001b[1;33m \u001b[0mtmpTweets\u001b[0m \u001b[1;33m=\u001b[0m \u001b[0mapi\u001b[0m\u001b[1;33m.\u001b[0m\u001b[0muser_timeline\u001b[0m\u001b[1;33m(\u001b[0m\u001b[0musername\u001b[0m\u001b[1;33m)\u001b[0m\u001b[1;33m\u001b[0m\u001b[1;33m\u001b[0m\u001b[0m\n\u001b[0m\u001b[0;32m     23\u001b[0m \u001b[1;32mfor\u001b[0m \u001b[0mtweet\u001b[0m \u001b[1;32min\u001b[0m \u001b[0mtmpTweets\u001b[0m\u001b[1;33m:\u001b[0m\u001b[1;33m\u001b[0m\u001b[1;33m\u001b[0m\u001b[0m\n\u001b[0;32m     24\u001b[0m     \u001b[1;32mif\u001b[0m \u001b[0mtweet\u001b[0m\u001b[1;33m.\u001b[0m\u001b[0mcreated_at\u001b[0m \u001b[1;33m<\u001b[0m \u001b[0mendDate\u001b[0m \u001b[1;32mand\u001b[0m \u001b[0mtweet\u001b[0m\u001b[1;33m.\u001b[0m\u001b[0mcreated_at\u001b[0m \u001b[1;33m>\u001b[0m \u001b[0mstartDate\u001b[0m\u001b[1;33m:\u001b[0m\u001b[1;33m\u001b[0m\u001b[1;33m\u001b[0m\u001b[0m\n",
      "\u001b[1;32m~\\Anaconda3\\lib\\site-packages\\tweepy\\binder.py\u001b[0m in \u001b[0;36m_call\u001b[1;34m(*args, **kwargs)\u001b[0m\n\u001b[0;32m    251\u001b[0m                 \u001b[1;32mreturn\u001b[0m \u001b[0mmethod\u001b[0m\u001b[1;33m\u001b[0m\u001b[1;33m\u001b[0m\u001b[0m\n\u001b[0;32m    252\u001b[0m             \u001b[1;32melse\u001b[0m\u001b[1;33m:\u001b[0m\u001b[1;33m\u001b[0m\u001b[1;33m\u001b[0m\u001b[0m\n\u001b[1;32m--> 253\u001b[1;33m                 \u001b[1;32mreturn\u001b[0m \u001b[0mmethod\u001b[0m\u001b[1;33m.\u001b[0m\u001b[0mexecute\u001b[0m\u001b[1;33m(\u001b[0m\u001b[1;33m)\u001b[0m\u001b[1;33m\u001b[0m\u001b[1;33m\u001b[0m\u001b[0m\n\u001b[0m\u001b[0;32m    254\u001b[0m         \u001b[1;32mfinally\u001b[0m\u001b[1;33m:\u001b[0m\u001b[1;33m\u001b[0m\u001b[1;33m\u001b[0m\u001b[0m\n\u001b[0;32m    255\u001b[0m             \u001b[0mmethod\u001b[0m\u001b[1;33m.\u001b[0m\u001b[0msession\u001b[0m\u001b[1;33m.\u001b[0m\u001b[0mclose\u001b[0m\u001b[1;33m(\u001b[0m\u001b[1;33m)\u001b[0m\u001b[1;33m\u001b[0m\u001b[1;33m\u001b[0m\u001b[0m\n",
      "\u001b[1;32m~\\Anaconda3\\lib\\site-packages\\tweepy\\binder.py\u001b[0m in \u001b[0;36mexecute\u001b[1;34m(self)\u001b[0m\n\u001b[0;32m    230\u001b[0m \u001b[1;33m\u001b[0m\u001b[0m\n\u001b[0;32m    231\u001b[0m                 \u001b[1;32mif\u001b[0m \u001b[0mis_rate_limit_error_message\u001b[0m\u001b[1;33m(\u001b[0m\u001b[0merror_msg\u001b[0m\u001b[1;33m)\u001b[0m\u001b[1;33m:\u001b[0m\u001b[1;33m\u001b[0m\u001b[1;33m\u001b[0m\u001b[0m\n\u001b[1;32m--> 232\u001b[1;33m                     \u001b[1;32mraise\u001b[0m \u001b[0mRateLimitError\u001b[0m\u001b[1;33m(\u001b[0m\u001b[0merror_msg\u001b[0m\u001b[1;33m,\u001b[0m \u001b[0mresp\u001b[0m\u001b[1;33m)\u001b[0m\u001b[1;33m\u001b[0m\u001b[1;33m\u001b[0m\u001b[0m\n\u001b[0m\u001b[0;32m    233\u001b[0m                 \u001b[1;32melse\u001b[0m\u001b[1;33m:\u001b[0m\u001b[1;33m\u001b[0m\u001b[1;33m\u001b[0m\u001b[0m\n\u001b[0;32m    234\u001b[0m                     \u001b[1;32mraise\u001b[0m \u001b[0mTweepError\u001b[0m\u001b[1;33m(\u001b[0m\u001b[0merror_msg\u001b[0m\u001b[1;33m,\u001b[0m \u001b[0mresp\u001b[0m\u001b[1;33m,\u001b[0m \u001b[0mapi_code\u001b[0m\u001b[1;33m=\u001b[0m\u001b[0mapi_error_code\u001b[0m\u001b[1;33m)\u001b[0m\u001b[1;33m\u001b[0m\u001b[1;33m\u001b[0m\u001b[0m\n",
      "\u001b[1;31mRateLimitError\u001b[0m: [{'message': 'Rate limit exceeded', 'code': 88}]"
     ]
    }
   ],
   "source": [
    "import tweepy\n",
    "import datetime\n",
    "import xlsxwriter\n",
    "import sys\n",
    "\n",
    "consumer_key = 'uCF8JAD34AkSthfmUbWNZJ35G'\n",
    "consumer_secret = 'DFPQeniPYgTxDlmdCJWpTbjE7xnM8zV9OoUtYvSvBIFlioqNYj'\n",
    "access_token = '780766416714596354-AOvrVFUyGaNRp0w0zcdQC7qFgGTFhjW'\n",
    "access_token_secret = '6rdWJ8us3RXOHwActz7d5ttsIx8FRSDfEWebqTBxBkj2K'\n",
    "\n",
    "auth = tweepy.OAuthHandler(consumer_key, consumer_secret)\n",
    "auth.set_access_token(access_token, access_token_secret)\n",
    "\n",
    "api = tweepy.API(auth)\n",
    "\n",
    "########## TODO - CHANGE THE BELOW THREE VARIABLES in For Loop with Match Csv ###########\n",
    "username = \"@TotallyMUFC\"\n",
    "startDate = datetime.datetime(2021, 8, 14, 6, 0, 0)\n",
    "endDate =   datetime.datetime(2021, 8, 14, 18, 0, 0)\n",
    "\n",
    "tweets = []\n",
    "tmpTweets = api.user_timeline(username)\n",
    "for tweet in tmpTweets:\n",
    "    if tweet.created_at < endDate and tweet.created_at > startDate:\n",
    "        tweets.append(tweet)\n",
    "\n",
    "while (tmpTweets[-1].created_at > startDate):\n",
    "    # print(\"Last Tweet @\", tmpTweets[-1].created_at, \" - fetching some more\")\n",
    "    tmpTweets = api.user_timeline(username, max_id = tmpTweets[-1].id)\n",
    "    for tweet in tmpTweets:\n",
    "        if tweet.created_at < endDate and tweet.created_at > startDate:\n",
    "            tweets.append(tweet)\n",
    "\n",
    "workbook = xlsxwriter.Workbook(username + str(startDate.date()) + \".xlsx\")\n",
    "worksheet = workbook.add_worksheet()\n",
    "row = 1\n",
    "worksheet.write_string(0, 0, \"id\")\n",
    "worksheet.write_string(0, 1, \"created_at\")\n",
    "worksheet.write(0, 2, \"text\")\n",
    "worksheet.write_string(0, 3, \"in_reply_to_status_id\")\n",
    "worksheet.write(0, 4, \"retweet_count\")\n",
    "worksheet.write(0, 5, \"favorite_count\")\n",
    "for tweet in tweets:\n",
    "    worksheet.write_string(row, 0, str(tweet.id))\n",
    "    worksheet.write_string(row, 1, str(tweet.created_at))\n",
    "    worksheet.write(row, 2, tweet.text)\n",
    "    worksheet.write_string(row, 3, str(tweet.in_reply_to_status_id))\n",
    "    worksheet.write(row, 4, tweet.retweet_count)\n",
    "    worksheet.write(row, 5, tweet.favorite_count)\n",
    "    row += 1\n",
    "\n",
    "workbook.close()\n",
    "print(\"Excel file ready\")"
   ]
  },
  {
   "cell_type": "markdown",
   "metadata": {
    "id": "sA19OqTm3WZ7"
   },
   "source": [
    "## Preprocessing Tweets"
   ]
  },
  {
   "cell_type": "code",
   "execution_count": null,
   "metadata": {
    "id": "UFd9YkDJ3aLI"
   },
   "outputs": [],
   "source": [
    "# load tweets, clean text, remove punctuation, numbers, urls, hashtags(maybe keep?). "
   ]
  },
  {
   "cell_type": "markdown",
   "metadata": {
    "id": "ZtAgwW7Dw9GL"
   },
   "source": [
    "## Sentiment Analysis"
   ]
  },
  {
   "cell_type": "markdown",
   "metadata": {
    "id": "ah6EopAU3E-q"
   },
   "source": [
    "### Vader"
   ]
  },
  {
   "cell_type": "code",
   "execution_count": null,
   "metadata": {
    "id": "lnTM1a643MO9"
   },
   "outputs": [],
   "source": []
  },
  {
   "cell_type": "markdown",
   "metadata": {
    "id": "tokwFLqF3Gr5"
   },
   "source": [
    "### Unsupervised BERT Sentiment Analysis / Aspect Based SA"
   ]
  },
  {
   "cell_type": "code",
   "execution_count": null,
   "metadata": {
    "id": "wz_3Cc0Tw8xI"
   },
   "outputs": [],
   "source": [
    "\n"
   ]
  },
  {
   "cell_type": "markdown",
   "metadata": {
    "id": "d_7FqJXYxOMl"
   },
   "source": [
    "## Analysing Sentiment Trends of Matches - After how many matches do the loyal fans lose trust in the player or team ? "
   ]
  },
  {
   "cell_type": "code",
   "execution_count": null,
   "metadata": {
    "id": "HzoeugPExUko"
   },
   "outputs": [],
   "source": []
  },
  {
   "cell_type": "markdown",
   "metadata": {
    "id": "jiQ5NWXxlatX"
   },
   "source": [
    "## Analysing Sentiment Trends of Matches - After how many matches do the general fans loose trust in the player or team ?"
   ]
  },
  {
   "cell_type": "code",
   "execution_count": null,
   "metadata": {
    "id": "jLjlLSz1leNM"
   },
   "outputs": [],
   "source": []
  },
  {
   "cell_type": "markdown",
   "metadata": {
    "id": "e7bot0JKTTMg"
   },
   "source": [
    "## Analysis of Sentiment of Users before and after the team posts a tweet"
   ]
  },
  {
   "cell_type": "code",
   "execution_count": null,
   "metadata": {
    "id": "htQuMvF-TcBU"
   },
   "outputs": [],
   "source": []
  }
 ],
 "metadata": {
  "colab": {
   "collapsed_sections": [
    "d_7FqJXYxOMl"
   ],
   "name": "FootballSentimentAnalysis.ipynb",
   "provenance": []
  },
  "kernelspec": {
   "display_name": "Python 3",
   "language": "python",
   "name": "python3"
  },
  "language_info": {
   "codemirror_mode": {
    "name": "ipython",
    "version": 3
   },
   "file_extension": ".py",
   "mimetype": "text/x-python",
   "name": "python",
   "nbconvert_exporter": "python",
   "pygments_lexer": "ipython3",
   "version": "3.8.5"
  }
 },
 "nbformat": 4,
 "nbformat_minor": 1
}
