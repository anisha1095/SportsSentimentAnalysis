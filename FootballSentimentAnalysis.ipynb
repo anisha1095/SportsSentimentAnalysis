{
  "nbformat": 4,
  "nbformat_minor": 0,
  "metadata": {
    "colab": {
      "name": "FootballSentimentAnalysis.ipynb",
      "provenance": [],
      "collapsed_sections": [
        "d_7FqJXYxOMl"
      ]
    },
    "kernelspec": {
      "name": "python3",
      "display_name": "Python 3"
    },
    "language_info": {
      "name": "python"
    }
  },
  "cells": [
    {
      "cell_type": "markdown",
      "metadata": {
        "id": "rakkgLJa64KU"
      },
      "source": [
        "\n",
        "## Extracting tweets from Twitter"
      ]
    },
    {
      "cell_type": "code",
      "metadata": {
        "id": "YYUaFr6Q-iKR"
      },
      "source": [
        "# import tweepy\n",
        "# import csv\n",
        "# import pandas as pd\n",
        "\n",
        "# consumer_key = 'uCF8JAD34AkSthfmUbWNZJ35G'\n",
        "# consumer_secret = 'DFPQeniPYgTxDlmdCJWpTbjE7xnM8zV9OoUtYvSvBIFlioqNYj'\n",
        "# access_token = '780766416714596354-AOvrVFUyGaNRp0w0zcdQC7qFgGTFhjW'\n",
        "# access_token_secret = '6rdWJ8us3RXOHwActz7d5ttsIx8FRSDfEWebqTBxBkj2K'\n",
        "\n",
        "# # auth = tweepy.OAuthHandler(consumer_key, consumer_secret)\n",
        "# # auth.set_access_token(access_token, access_token_secret)\n",
        "# # api = tweepy.API(auth,wait_on_rate_limit=True)\n",
        "\n",
        "# # csvFile = open('tweets.csv', 'a')\n",
        "# # csvWriter = csv.writer(csvFile)\n",
        "\n",
        "# # count = 0\n",
        "# # # api.update_status(status='Test2') -- To test if access tokens are working fine.\n",
        "\n",
        "# # for tweet in tweepy.Cursor(api.search,\n",
        "# #                            q=\"ManUtd\",\n",
        "# #                            count=100,\n",
        "# #                            lang=\"en\",\n",
        "# #                            since=\"2021-03-01\",\n",
        "# #                            until=\"2021-04-10\",\n",
        "# #                            screen_name=\"ManUtd\"\n",
        "# #                            ).items():\n",
        "# #     print (tweet.created_at, tweet.text)\n",
        "# #     csvWriter.writerow([tweet.created_at, tweet.text.encode('utf-8')])"
      ],
      "execution_count": 8,
      "outputs": []
    },
    {
      "cell_type": "code",
      "metadata": {
        "colab": {
          "base_uri": "https://localhost:8080/"
        },
        "id": "myVcTT8cCV0L",
        "outputId": "d5eabc96-a733-433a-9903-c51411ed96f1"
      },
      "source": [
        "pip install xlsxwriter"
      ],
      "execution_count": 45,
      "outputs": [
        {
          "output_type": "stream",
          "name": "stdout",
          "text": [
            "Collecting xlsxwriter\n",
            "  Downloading XlsxWriter-3.0.2-py3-none-any.whl (149 kB)\n",
            "\u001b[?25l\r\u001b[K     |██▏                             | 10 kB 22.4 MB/s eta 0:00:01\r\u001b[K     |████▍                           | 20 kB 26.9 MB/s eta 0:00:01\r\u001b[K     |██████▋                         | 30 kB 22.7 MB/s eta 0:00:01\r\u001b[K     |████████▊                       | 40 kB 12.1 MB/s eta 0:00:01\r\u001b[K     |███████████                     | 51 kB 5.7 MB/s eta 0:00:01\r\u001b[K     |█████████████▏                  | 61 kB 5.2 MB/s eta 0:00:01\r\u001b[K     |███████████████▎                | 71 kB 5.6 MB/s eta 0:00:01\r\u001b[K     |█████████████████▌              | 81 kB 6.2 MB/s eta 0:00:01\r\u001b[K     |███████████████████▊            | 92 kB 4.9 MB/s eta 0:00:01\r\u001b[K     |█████████████████████▉          | 102 kB 5.2 MB/s eta 0:00:01\r\u001b[K     |████████████████████████        | 112 kB 5.2 MB/s eta 0:00:01\r\u001b[K     |██████████████████████████▎     | 122 kB 5.2 MB/s eta 0:00:01\r\u001b[K     |████████████████████████████▍   | 133 kB 5.2 MB/s eta 0:00:01\r\u001b[K     |██████████████████████████████▋ | 143 kB 5.2 MB/s eta 0:00:01\r\u001b[K     |████████████████████████████████| 149 kB 5.2 MB/s \n",
            "\u001b[?25hInstalling collected packages: xlsxwriter\n",
            "Successfully installed xlsxwriter-3.0.2\n"
          ]
        }
      ]
    },
    {
      "cell_type": "code",
      "metadata": {
        "colab": {
          "base_uri": "https://localhost:8080/"
        },
        "id": "33xtx6brCO0d",
        "outputId": "2c69e178-5d62-45fd-982e-60ba6e6ed164"
      },
      "source": [
        "# from requests_oauthlib import OAuth1Session\n",
        "# import datetime\n",
        "\n",
        "# twitter = OAuth1Session(consumer_key,\n",
        "#                         client_secret=consumer_secret,\n",
        "#                         resource_owner_key=access_token,\n",
        "#                         resource_owner_secret=access_token_secret)\n",
        "# auth = tweepy.OAuthHandler(consumer_key, consumer_secret)\n",
        "# auth.set_access_token(access_token, access_token_secret)\n",
        "\n",
        "# api = tweepy.API(auth,wait_on_rate_limit=True)\n",
        "# # Collecting tweets\n",
        "# count = 10 # Set the number of tweets to retrieve\n",
        "# date = datetime.date(2021, 8, 11)\n",
        "# userID = \"manUtd\"\n",
        "# # tweets = api.user_timeline(screen_name= userID, \n",
        "# #                            count=10,\n",
        "# #                            include_rts = False,\n",
        "# #                            # Necessary to keep full_text \n",
        "# #                            # otherwise only the first 140 words are extracted\n",
        "# #                           #  tweet_mode = 'extended'\n",
        "# #                            )\n",
        "\n",
        "# # for status in tweepy.Cursor(api.user_timeline, screen_name='@manUtd', tweet_mode=\"extended\").items():\n",
        "# #     print(status.full_text)\n",
        "# tweets = tweepy.Cursor(api.user_timeline,\n",
        "#                    q=\"\",\n",
        "#                    screen_name=\"@manUtd\",\n",
        "#                    lang=\"en\",\n",
        "#                   #  since=date,\n",
        "#                    until=\"2021-11-11\",\n",
        "#                    result_type=\"recent\"\n",
        "#                    ).items(2)\n",
        "# for tweet in tweets: \n",
        "#   print(tweet)"
      ],
      "execution_count": 43,
      "outputs": [
        {
          "output_type": "stream",
          "name": "stdout",
          "text": [
            "Status(_api=<tweepy.api.API object at 0x7f03e1ed30d0>, _json={'created_at': 'Sun Nov 14 22:04:12 +0000 2021', 'id': 1460005673924706304, 'id_str': '1460005673924706304', 'text': '🌍 Three Reds featured for their respective nations in #WorldCup qualifying tonight 👇\\n\\n#MUFC', 'truncated': False, 'entities': {'hashtags': [{'text': 'WorldCup', 'indices': [54, 63]}, {'text': 'MUFC', 'indices': [86, 91]}], 'symbols': [], 'user_mentions': [], 'urls': []}, 'source': '<a href=\"https://ads-api.twitter.com\" rel=\"nofollow\">Twitter for Advertisers.</a>', 'in_reply_to_status_id': None, 'in_reply_to_status_id_str': None, 'in_reply_to_user_id': None, 'in_reply_to_user_id_str': None, 'in_reply_to_screen_name': None, 'user': {'id': 558797310, 'id_str': '558797310', 'name': 'Manchester United', 'screen_name': 'ManUtd', 'location': 'Old Trafford, Manchester', 'description': 'Lest We Forget.', 'url': 'https://t.co/KdFTLqSgrW', 'entities': {'url': {'urls': [{'url': 'https://t.co/KdFTLqSgrW', 'expanded_url': 'http://manutd.co/ManUtdApp', 'display_url': 'manutd.co/ManUtdApp', 'indices': [0, 23]}]}, 'description': {'urls': []}}, 'protected': False, 'followers_count': 28355820, 'friends_count': 164, 'listed_count': 23993, 'created_at': 'Fri Apr 20 15:17:43 +0000 2012', 'favourites_count': 4207, 'utc_offset': None, 'time_zone': None, 'geo_enabled': True, 'verified': True, 'statuses_count': 70349, 'lang': None, 'contributors_enabled': False, 'is_translator': False, 'is_translation_enabled': False, 'profile_background_color': '000000', 'profile_background_image_url': 'http://abs.twimg.com/images/themes/theme14/bg.gif', 'profile_background_image_url_https': 'https://abs.twimg.com/images/themes/theme14/bg.gif', 'profile_background_tile': False, 'profile_image_url': 'http://pbs.twimg.com/profile_images/1456599624521814024/YxLThgEV_normal.png', 'profile_image_url_https': 'https://pbs.twimg.com/profile_images/1456599624521814024/YxLThgEV_normal.png', 'profile_banner_url': 'https://pbs.twimg.com/profile_banners/558797310/1636115388', 'profile_link_color': 'B30000', 'profile_sidebar_border_color': 'FFFFFF', 'profile_sidebar_fill_color': 'EFEFEF', 'profile_text_color': '333333', 'profile_use_background_image': True, 'has_extended_profile': False, 'default_profile': False, 'default_profile_image': False, 'following': False, 'follow_request_sent': False, 'notifications': False, 'translator_type': 'regular', 'withheld_in_countries': []}, 'geo': None, 'coordinates': None, 'place': None, 'contributors': None, 'is_quote_status': False, 'retweet_count': 138, 'favorite_count': 2703, 'favorited': False, 'retweeted': False, 'lang': 'en'}, created_at=datetime.datetime(2021, 11, 14, 22, 4, 12), id=1460005673924706304, id_str='1460005673924706304', text='🌍 Three Reds featured for their respective nations in #WorldCup qualifying tonight 👇\\n\\n#MUFC', truncated=False, entities={'hashtags': [{'text': 'WorldCup', 'indices': [54, 63]}, {'text': 'MUFC', 'indices': [86, 91]}], 'symbols': [], 'user_mentions': [], 'urls': []}, source='Twitter for Advertisers.', source_url='https://ads-api.twitter.com', in_reply_to_status_id=None, in_reply_to_status_id_str=None, in_reply_to_user_id=None, in_reply_to_user_id_str=None, in_reply_to_screen_name=None, author=User(_api=<tweepy.api.API object at 0x7f03e1ed30d0>, _json={'id': 558797310, 'id_str': '558797310', 'name': 'Manchester United', 'screen_name': 'ManUtd', 'location': 'Old Trafford, Manchester', 'description': 'Lest We Forget.', 'url': 'https://t.co/KdFTLqSgrW', 'entities': {'url': {'urls': [{'url': 'https://t.co/KdFTLqSgrW', 'expanded_url': 'http://manutd.co/ManUtdApp', 'display_url': 'manutd.co/ManUtdApp', 'indices': [0, 23]}]}, 'description': {'urls': []}}, 'protected': False, 'followers_count': 28355820, 'friends_count': 164, 'listed_count': 23993, 'created_at': 'Fri Apr 20 15:17:43 +0000 2012', 'favourites_count': 4207, 'utc_offset': None, 'time_zone': None, 'geo_enabled': True, 'verified': True, 'statuses_count': 70349, 'lang': None, 'contributors_enabled': False, 'is_translator': False, 'is_translation_enabled': False, 'profile_background_color': '000000', 'profile_background_image_url': 'http://abs.twimg.com/images/themes/theme14/bg.gif', 'profile_background_image_url_https': 'https://abs.twimg.com/images/themes/theme14/bg.gif', 'profile_background_tile': False, 'profile_image_url': 'http://pbs.twimg.com/profile_images/1456599624521814024/YxLThgEV_normal.png', 'profile_image_url_https': 'https://pbs.twimg.com/profile_images/1456599624521814024/YxLThgEV_normal.png', 'profile_banner_url': 'https://pbs.twimg.com/profile_banners/558797310/1636115388', 'profile_link_color': 'B30000', 'profile_sidebar_border_color': 'FFFFFF', 'profile_sidebar_fill_color': 'EFEFEF', 'profile_text_color': '333333', 'profile_use_background_image': True, 'has_extended_profile': False, 'default_profile': False, 'default_profile_image': False, 'following': False, 'follow_request_sent': False, 'notifications': False, 'translator_type': 'regular', 'withheld_in_countries': []}, id=558797310, id_str='558797310', name='Manchester United', screen_name='ManUtd', location='Old Trafford, Manchester', description='Lest We Forget.', url='https://t.co/KdFTLqSgrW', entities={'url': {'urls': [{'url': 'https://t.co/KdFTLqSgrW', 'expanded_url': 'http://manutd.co/ManUtdApp', 'display_url': 'manutd.co/ManUtdApp', 'indices': [0, 23]}]}, 'description': {'urls': []}}, protected=False, followers_count=28355820, friends_count=164, listed_count=23993, created_at=datetime.datetime(2012, 4, 20, 15, 17, 43), favourites_count=4207, utc_offset=None, time_zone=None, geo_enabled=True, verified=True, statuses_count=70349, lang=None, contributors_enabled=False, is_translator=False, is_translation_enabled=False, profile_background_color='000000', profile_background_image_url='http://abs.twimg.com/images/themes/theme14/bg.gif', profile_background_image_url_https='https://abs.twimg.com/images/themes/theme14/bg.gif', profile_background_tile=False, profile_image_url='http://pbs.twimg.com/profile_images/1456599624521814024/YxLThgEV_normal.png', profile_image_url_https='https://pbs.twimg.com/profile_images/1456599624521814024/YxLThgEV_normal.png', profile_banner_url='https://pbs.twimg.com/profile_banners/558797310/1636115388', profile_link_color='B30000', profile_sidebar_border_color='FFFFFF', profile_sidebar_fill_color='EFEFEF', profile_text_color='333333', profile_use_background_image=True, has_extended_profile=False, default_profile=False, default_profile_image=False, following=False, follow_request_sent=False, notifications=False, translator_type='regular', withheld_in_countries=[]), user=User(_api=<tweepy.api.API object at 0x7f03e1ed30d0>, _json={'id': 558797310, 'id_str': '558797310', 'name': 'Manchester United', 'screen_name': 'ManUtd', 'location': 'Old Trafford, Manchester', 'description': 'Lest We Forget.', 'url': 'https://t.co/KdFTLqSgrW', 'entities': {'url': {'urls': [{'url': 'https://t.co/KdFTLqSgrW', 'expanded_url': 'http://manutd.co/ManUtdApp', 'display_url': 'manutd.co/ManUtdApp', 'indices': [0, 23]}]}, 'description': {'urls': []}}, 'protected': False, 'followers_count': 28355820, 'friends_count': 164, 'listed_count': 23993, 'created_at': 'Fri Apr 20 15:17:43 +0000 2012', 'favourites_count': 4207, 'utc_offset': None, 'time_zone': None, 'geo_enabled': True, 'verified': True, 'statuses_count': 70349, 'lang': None, 'contributors_enabled': False, 'is_translator': False, 'is_translation_enabled': False, 'profile_background_color': '000000', 'profile_background_image_url': 'http://abs.twimg.com/images/themes/theme14/bg.gif', 'profile_background_image_url_https': 'https://abs.twimg.com/images/themes/theme14/bg.gif', 'profile_background_tile': False, 'profile_image_url': 'http://pbs.twimg.com/profile_images/1456599624521814024/YxLThgEV_normal.png', 'profile_image_url_https': 'https://pbs.twimg.com/profile_images/1456599624521814024/YxLThgEV_normal.png', 'profile_banner_url': 'https://pbs.twimg.com/profile_banners/558797310/1636115388', 'profile_link_color': 'B30000', 'profile_sidebar_border_color': 'FFFFFF', 'profile_sidebar_fill_color': 'EFEFEF', 'profile_text_color': '333333', 'profile_use_background_image': True, 'has_extended_profile': False, 'default_profile': False, 'default_profile_image': False, 'following': False, 'follow_request_sent': False, 'notifications': False, 'translator_type': 'regular', 'withheld_in_countries': []}, id=558797310, id_str='558797310', name='Manchester United', screen_name='ManUtd', location='Old Trafford, Manchester', description='Lest We Forget.', url='https://t.co/KdFTLqSgrW', entities={'url': {'urls': [{'url': 'https://t.co/KdFTLqSgrW', 'expanded_url': 'http://manutd.co/ManUtdApp', 'display_url': 'manutd.co/ManUtdApp', 'indices': [0, 23]}]}, 'description': {'urls': []}}, protected=False, followers_count=28355820, friends_count=164, listed_count=23993, created_at=datetime.datetime(2012, 4, 20, 15, 17, 43), favourites_count=4207, utc_offset=None, time_zone=None, geo_enabled=True, verified=True, statuses_count=70349, lang=None, contributors_enabled=False, is_translator=False, is_translation_enabled=False, profile_background_color='000000', profile_background_image_url='http://abs.twimg.com/images/themes/theme14/bg.gif', profile_background_image_url_https='https://abs.twimg.com/images/themes/theme14/bg.gif', profile_background_tile=False, profile_image_url='http://pbs.twimg.com/profile_images/1456599624521814024/YxLThgEV_normal.png', profile_image_url_https='https://pbs.twimg.com/profile_images/1456599624521814024/YxLThgEV_normal.png', profile_banner_url='https://pbs.twimg.com/profile_banners/558797310/1636115388', profile_link_color='B30000', profile_sidebar_border_color='FFFFFF', profile_sidebar_fill_color='EFEFEF', profile_text_color='333333', profile_use_background_image=True, has_extended_profile=False, default_profile=False, default_profile_image=False, following=False, follow_request_sent=False, notifications=False, translator_type='regular', withheld_in_countries=[]), geo=None, coordinates=None, place=None, contributors=None, is_quote_status=False, retweet_count=138, favorite_count=2703, favorited=False, retweeted=False, lang='en')\n",
            "Status(_api=<tweepy.api.API object at 0x7f03e1ed30d0>, _json={'created_at': 'Sun Nov 14 20:51:00 +0000 2021', 'id': 1459987249584431105, 'id_str': '1459987249584431105', 'text': \"How will next year's winter #WorldCup impact the 2022/23 #PL schedule? 📅\\n\\n#MUFC\", 'truncated': False, 'entities': {'hashtags': [{'text': 'WorldCup', 'indices': [28, 37]}, {'text': 'PL', 'indices': [57, 60]}, {'text': 'MUFC', 'indices': [74, 79]}], 'symbols': [], 'user_mentions': [], 'urls': []}, 'source': '<a href=\"https://ads-api.twitter.com\" rel=\"nofollow\">Twitter for Advertisers.</a>', 'in_reply_to_status_id': None, 'in_reply_to_status_id_str': None, 'in_reply_to_user_id': None, 'in_reply_to_user_id_str': None, 'in_reply_to_screen_name': None, 'user': {'id': 558797310, 'id_str': '558797310', 'name': 'Manchester United', 'screen_name': 'ManUtd', 'location': 'Old Trafford, Manchester', 'description': 'Lest We Forget.', 'url': 'https://t.co/KdFTLqSgrW', 'entities': {'url': {'urls': [{'url': 'https://t.co/KdFTLqSgrW', 'expanded_url': 'http://manutd.co/ManUtdApp', 'display_url': 'manutd.co/ManUtdApp', 'indices': [0, 23]}]}, 'description': {'urls': []}}, 'protected': False, 'followers_count': 28355820, 'friends_count': 164, 'listed_count': 23993, 'created_at': 'Fri Apr 20 15:17:43 +0000 2012', 'favourites_count': 4207, 'utc_offset': None, 'time_zone': None, 'geo_enabled': True, 'verified': True, 'statuses_count': 70349, 'lang': None, 'contributors_enabled': False, 'is_translator': False, 'is_translation_enabled': False, 'profile_background_color': '000000', 'profile_background_image_url': 'http://abs.twimg.com/images/themes/theme14/bg.gif', 'profile_background_image_url_https': 'https://abs.twimg.com/images/themes/theme14/bg.gif', 'profile_background_tile': False, 'profile_image_url': 'http://pbs.twimg.com/profile_images/1456599624521814024/YxLThgEV_normal.png', 'profile_image_url_https': 'https://pbs.twimg.com/profile_images/1456599624521814024/YxLThgEV_normal.png', 'profile_banner_url': 'https://pbs.twimg.com/profile_banners/558797310/1636115388', 'profile_link_color': 'B30000', 'profile_sidebar_border_color': 'FFFFFF', 'profile_sidebar_fill_color': 'EFEFEF', 'profile_text_color': '333333', 'profile_use_background_image': True, 'has_extended_profile': False, 'default_profile': False, 'default_profile_image': False, 'following': False, 'follow_request_sent': False, 'notifications': False, 'translator_type': 'regular', 'withheld_in_countries': []}, 'geo': None, 'coordinates': None, 'place': None, 'contributors': None, 'is_quote_status': False, 'retweet_count': 173, 'favorite_count': 2896, 'favorited': False, 'retweeted': False, 'lang': 'en'}, created_at=datetime.datetime(2021, 11, 14, 20, 51), id=1459987249584431105, id_str='1459987249584431105', text=\"How will next year's winter #WorldCup impact the 2022/23 #PL schedule? 📅\\n\\n#MUFC\", truncated=False, entities={'hashtags': [{'text': 'WorldCup', 'indices': [28, 37]}, {'text': 'PL', 'indices': [57, 60]}, {'text': 'MUFC', 'indices': [74, 79]}], 'symbols': [], 'user_mentions': [], 'urls': []}, source='Twitter for Advertisers.', source_url='https://ads-api.twitter.com', in_reply_to_status_id=None, in_reply_to_status_id_str=None, in_reply_to_user_id=None, in_reply_to_user_id_str=None, in_reply_to_screen_name=None, author=User(_api=<tweepy.api.API object at 0x7f03e1ed30d0>, _json={'id': 558797310, 'id_str': '558797310', 'name': 'Manchester United', 'screen_name': 'ManUtd', 'location': 'Old Trafford, Manchester', 'description': 'Lest We Forget.', 'url': 'https://t.co/KdFTLqSgrW', 'entities': {'url': {'urls': [{'url': 'https://t.co/KdFTLqSgrW', 'expanded_url': 'http://manutd.co/ManUtdApp', 'display_url': 'manutd.co/ManUtdApp', 'indices': [0, 23]}]}, 'description': {'urls': []}}, 'protected': False, 'followers_count': 28355820, 'friends_count': 164, 'listed_count': 23993, 'created_at': 'Fri Apr 20 15:17:43 +0000 2012', 'favourites_count': 4207, 'utc_offset': None, 'time_zone': None, 'geo_enabled': True, 'verified': True, 'statuses_count': 70349, 'lang': None, 'contributors_enabled': False, 'is_translator': False, 'is_translation_enabled': False, 'profile_background_color': '000000', 'profile_background_image_url': 'http://abs.twimg.com/images/themes/theme14/bg.gif', 'profile_background_image_url_https': 'https://abs.twimg.com/images/themes/theme14/bg.gif', 'profile_background_tile': False, 'profile_image_url': 'http://pbs.twimg.com/profile_images/1456599624521814024/YxLThgEV_normal.png', 'profile_image_url_https': 'https://pbs.twimg.com/profile_images/1456599624521814024/YxLThgEV_normal.png', 'profile_banner_url': 'https://pbs.twimg.com/profile_banners/558797310/1636115388', 'profile_link_color': 'B30000', 'profile_sidebar_border_color': 'FFFFFF', 'profile_sidebar_fill_color': 'EFEFEF', 'profile_text_color': '333333', 'profile_use_background_image': True, 'has_extended_profile': False, 'default_profile': False, 'default_profile_image': False, 'following': False, 'follow_request_sent': False, 'notifications': False, 'translator_type': 'regular', 'withheld_in_countries': []}, id=558797310, id_str='558797310', name='Manchester United', screen_name='ManUtd', location='Old Trafford, Manchester', description='Lest We Forget.', url='https://t.co/KdFTLqSgrW', entities={'url': {'urls': [{'url': 'https://t.co/KdFTLqSgrW', 'expanded_url': 'http://manutd.co/ManUtdApp', 'display_url': 'manutd.co/ManUtdApp', 'indices': [0, 23]}]}, 'description': {'urls': []}}, protected=False, followers_count=28355820, friends_count=164, listed_count=23993, created_at=datetime.datetime(2012, 4, 20, 15, 17, 43), favourites_count=4207, utc_offset=None, time_zone=None, geo_enabled=True, verified=True, statuses_count=70349, lang=None, contributors_enabled=False, is_translator=False, is_translation_enabled=False, profile_background_color='000000', profile_background_image_url='http://abs.twimg.com/images/themes/theme14/bg.gif', profile_background_image_url_https='https://abs.twimg.com/images/themes/theme14/bg.gif', profile_background_tile=False, profile_image_url='http://pbs.twimg.com/profile_images/1456599624521814024/YxLThgEV_normal.png', profile_image_url_https='https://pbs.twimg.com/profile_images/1456599624521814024/YxLThgEV_normal.png', profile_banner_url='https://pbs.twimg.com/profile_banners/558797310/1636115388', profile_link_color='B30000', profile_sidebar_border_color='FFFFFF', profile_sidebar_fill_color='EFEFEF', profile_text_color='333333', profile_use_background_image=True, has_extended_profile=False, default_profile=False, default_profile_image=False, following=False, follow_request_sent=False, notifications=False, translator_type='regular', withheld_in_countries=[]), user=User(_api=<tweepy.api.API object at 0x7f03e1ed30d0>, _json={'id': 558797310, 'id_str': '558797310', 'name': 'Manchester United', 'screen_name': 'ManUtd', 'location': 'Old Trafford, Manchester', 'description': 'Lest We Forget.', 'url': 'https://t.co/KdFTLqSgrW', 'entities': {'url': {'urls': [{'url': 'https://t.co/KdFTLqSgrW', 'expanded_url': 'http://manutd.co/ManUtdApp', 'display_url': 'manutd.co/ManUtdApp', 'indices': [0, 23]}]}, 'description': {'urls': []}}, 'protected': False, 'followers_count': 28355820, 'friends_count': 164, 'listed_count': 23993, 'created_at': 'Fri Apr 20 15:17:43 +0000 2012', 'favourites_count': 4207, 'utc_offset': None, 'time_zone': None, 'geo_enabled': True, 'verified': True, 'statuses_count': 70349, 'lang': None, 'contributors_enabled': False, 'is_translator': False, 'is_translation_enabled': False, 'profile_background_color': '000000', 'profile_background_image_url': 'http://abs.twimg.com/images/themes/theme14/bg.gif', 'profile_background_image_url_https': 'https://abs.twimg.com/images/themes/theme14/bg.gif', 'profile_background_tile': False, 'profile_image_url': 'http://pbs.twimg.com/profile_images/1456599624521814024/YxLThgEV_normal.png', 'profile_image_url_https': 'https://pbs.twimg.com/profile_images/1456599624521814024/YxLThgEV_normal.png', 'profile_banner_url': 'https://pbs.twimg.com/profile_banners/558797310/1636115388', 'profile_link_color': 'B30000', 'profile_sidebar_border_color': 'FFFFFF', 'profile_sidebar_fill_color': 'EFEFEF', 'profile_text_color': '333333', 'profile_use_background_image': True, 'has_extended_profile': False, 'default_profile': False, 'default_profile_image': False, 'following': False, 'follow_request_sent': False, 'notifications': False, 'translator_type': 'regular', 'withheld_in_countries': []}, id=558797310, id_str='558797310', name='Manchester United', screen_name='ManUtd', location='Old Trafford, Manchester', description='Lest We Forget.', url='https://t.co/KdFTLqSgrW', entities={'url': {'urls': [{'url': 'https://t.co/KdFTLqSgrW', 'expanded_url': 'http://manutd.co/ManUtdApp', 'display_url': 'manutd.co/ManUtdApp', 'indices': [0, 23]}]}, 'description': {'urls': []}}, protected=False, followers_count=28355820, friends_count=164, listed_count=23993, created_at=datetime.datetime(2012, 4, 20, 15, 17, 43), favourites_count=4207, utc_offset=None, time_zone=None, geo_enabled=True, verified=True, statuses_count=70349, lang=None, contributors_enabled=False, is_translator=False, is_translation_enabled=False, profile_background_color='000000', profile_background_image_url='http://abs.twimg.com/images/themes/theme14/bg.gif', profile_background_image_url_https='https://abs.twimg.com/images/themes/theme14/bg.gif', profile_background_tile=False, profile_image_url='http://pbs.twimg.com/profile_images/1456599624521814024/YxLThgEV_normal.png', profile_image_url_https='https://pbs.twimg.com/profile_images/1456599624521814024/YxLThgEV_normal.png', profile_banner_url='https://pbs.twimg.com/profile_banners/558797310/1636115388', profile_link_color='B30000', profile_sidebar_border_color='FFFFFF', profile_sidebar_fill_color='EFEFEF', profile_text_color='333333', profile_use_background_image=True, has_extended_profile=False, default_profile=False, default_profile_image=False, following=False, follow_request_sent=False, notifications=False, translator_type='regular', withheld_in_countries=[]), geo=None, coordinates=None, place=None, contributors=None, is_quote_status=False, retweet_count=173, favorite_count=2896, favorited=False, retweeted=False, lang='en')\n"
          ]
        }
      ]
    },
    {
      "cell_type": "code",
      "metadata": {
        "colab": {
          "base_uri": "https://localhost:8080/"
        },
        "id": "10Ay_k0UXVJZ",
        "outputId": "49d977df-d9ab-4450-966c-1e22a4416776"
      },
      "source": [
        "import tweepy\n",
        "import datetime\n",
        "import xlsxwriter\n",
        "import sys\n",
        "\n",
        "consumer_key = 'uCF8JAD34AkSthfmUbWNZJ35G'\n",
        "consumer_secret = 'DFPQeniPYgTxDlmdCJWpTbjE7xnM8zV9OoUtYvSvBIFlioqNYj'\n",
        "access_token = '780766416714596354-AOvrVFUyGaNRp0w0zcdQC7qFgGTFhjW'\n",
        "access_token_secret = '6rdWJ8us3RXOHwActz7d5ttsIx8FRSDfEWebqTBxBkj2K'\n",
        "\n",
        "auth = tweepy.OAuthHandler(consumer_key, consumer_secret)\n",
        "auth.set_access_token(access_token, access_token_secret)\n",
        "\n",
        "api = tweepy.API(auth)\n",
        "\n",
        "########## TODO - CHANGE THE BELOW THREE VARIABLES in For Loop with Match Csv ###########\n",
        "username = \"@markgoldbridge\"\n",
        "startDate = datetime.datetime(2021, 8, 14, 0, 0, 0)\n",
        "endDate =   datetime.datetime(2021, 8, 14, 23, 0, 0)\n",
        "\n",
        "tweets = []\n",
        "tmpTweets = api.user_timeline(username)\n",
        "for tweet in tmpTweets:\n",
        "    if tweet.created_at < endDate and tweet.created_at > startDate:\n",
        "        tweets.append(tweet)\n",
        "\n",
        "while (tmpTweets[-1].created_at > startDate):\n",
        "    # print(\"Last Tweet @\", tmpTweets[-1].created_at, \" - fetching some more\")\n",
        "    tmpTweets = api.user_timeline(username, max_id = tmpTweets[-1].id)\n",
        "    for tweet in tmpTweets:\n",
        "        if tweet.created_at < endDate and tweet.created_at > startDate:\n",
        "            tweets.append(tweet)\n",
        "\n",
        "workbook = xlsxwriter.Workbook(username + str(startDate.date()) + \".xlsx\")\n",
        "worksheet = workbook.add_worksheet()\n",
        "row = 1\n",
        "worksheet.write_string(0, 0, \"id\")\n",
        "worksheet.write_string(0, 1, \"created_at\")\n",
        "worksheet.write(0, 2, \"text\")\n",
        "worksheet.write_string(0, 3, \"in_reply_to_status_id\")\n",
        "worksheet.write(0, 4, \"retweet_count\")\n",
        "worksheet.write(0, 5, \"favorite_count\")\n",
        "for tweet in tweets:\n",
        "    worksheet.write_string(row, 0, str(tweet.id))\n",
        "    worksheet.write_string(row, 1, str(tweet.created_at))\n",
        "    worksheet.write(row, 2, tweet.text)\n",
        "    worksheet.write_string(row, 3, str(tweet.in_reply_to_status_id))\n",
        "    worksheet.write(row, 4, tweet.retweet_count)\n",
        "    worksheet.write(row, 5, tweet.favorite_count)\n",
        "    row += 1\n",
        "\n",
        "workbook.close()\n",
        "print(\"Excel file ready\")"
      ],
      "execution_count": 51,
      "outputs": [
        {
          "output_type": "stream",
          "name": "stdout",
          "text": [
            "Excel file ready\n"
          ]
        }
      ]
    },
    {
      "cell_type": "markdown",
      "metadata": {
        "id": "sA19OqTm3WZ7"
      },
      "source": [
        "## Preprocessing Tweets"
      ]
    },
    {
      "cell_type": "code",
      "metadata": {
        "id": "UFd9YkDJ3aLI"
      },
      "source": [
        "# load tweets, clean text, remove punctuation, numbers, urls, hashtags(maybe keep?). "
      ],
      "execution_count": null,
      "outputs": []
    },
    {
      "cell_type": "markdown",
      "metadata": {
        "id": "ZtAgwW7Dw9GL"
      },
      "source": [
        "## Sentiment Analysis"
      ]
    },
    {
      "cell_type": "markdown",
      "metadata": {
        "id": "ah6EopAU3E-q"
      },
      "source": [
        "### Vader"
      ]
    },
    {
      "cell_type": "code",
      "metadata": {
        "id": "lnTM1a643MO9"
      },
      "source": [
        ""
      ],
      "execution_count": null,
      "outputs": []
    },
    {
      "cell_type": "markdown",
      "metadata": {
        "id": "tokwFLqF3Gr5"
      },
      "source": [
        "### Unsupervised BERT Sentiment Analysis / Aspect Based SA"
      ]
    },
    {
      "cell_type": "code",
      "metadata": {
        "id": "wz_3Cc0Tw8xI"
      },
      "source": [
        "\n"
      ],
      "execution_count": null,
      "outputs": []
    },
    {
      "cell_type": "markdown",
      "metadata": {
        "id": "d_7FqJXYxOMl"
      },
      "source": [
        "## Analysing Sentiment Trends of Matches - After how many matches do the loyal fans lose trust in the player or team ? "
      ]
    },
    {
      "cell_type": "code",
      "metadata": {
        "id": "HzoeugPExUko"
      },
      "source": [
        ""
      ],
      "execution_count": null,
      "outputs": []
    },
    {
      "cell_type": "markdown",
      "metadata": {
        "id": "jiQ5NWXxlatX"
      },
      "source": [
        "## Analysing Sentiment Trends of Matches - After how many matches do the general fans loose trust in the player or team ?"
      ]
    },
    {
      "cell_type": "code",
      "metadata": {
        "id": "jLjlLSz1leNM"
      },
      "source": [
        ""
      ],
      "execution_count": null,
      "outputs": []
    },
    {
      "cell_type": "markdown",
      "metadata": {
        "id": "e7bot0JKTTMg"
      },
      "source": [
        "## Analysis of Sentiment of Users before and after the team posts a tweet"
      ]
    },
    {
      "cell_type": "code",
      "metadata": {
        "id": "htQuMvF-TcBU"
      },
      "source": [
        ""
      ],
      "execution_count": null,
      "outputs": []
    }
  ]
}